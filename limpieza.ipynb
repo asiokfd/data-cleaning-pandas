{
 "cells": [
  {
   "cell_type": "markdown",
   "metadata": {},
   "source": [
    "![texto_descriptivo](portada.jpg)"
   ]
  },
  {
   "cell_type": "markdown",
   "metadata": {},
   "source": [
    "### Importamos los módulos necesarios para el proyecto"
   ]
  },
  {
   "cell_type": "code",
   "execution_count": 1,
   "metadata": {},
   "outputs": [],
   "source": [
    "import pandas as pd\n",
    "import seaborn as sb"
   ]
  },
  {
   "cell_type": "markdown",
   "metadata": {},
   "source": [
    "### Cargamos el dataset"
   ]
  },
  {
   "cell_type": "code",
   "execution_count": 2,
   "metadata": {},
   "outputs": [],
   "source": [
    "data = pd.read_csv(\"src/attacks.csv\",encoding = \"ISO-8859-1\")"
   ]
  },
  {
   "cell_type": "code",
   "execution_count": 3,
   "metadata": {},
   "outputs": [
    {
     "data": {
      "text/plain": [
       "(25723, 24)"
      ]
     },
     "execution_count": 3,
     "metadata": {},
     "output_type": "execute_result"
    }
   ],
   "source": [
    "data.shape # antes de nada, nos hacemos una idea de lo que hay"
   ]
  },
  {
   "cell_type": "code",
   "execution_count": 1,
   "metadata": {},
   "outputs": [],
   "source": [
    "# 1º hipotesis: los surferos provovan mas atáques que los surferos ( aqui me tengo que quedar con los provocados primero, y con los pescadores y surferos por otro)\n",
    "#2º hipotesis : los hombres provocan mas ataques las mujeres ( aqui primero con los provocados, y con hombres y mujeres despues)\n",
    "#3º hipotesis: en Florida ( que imagino que estará), hay más ataques de cualquier tipo que en Reunion, que he leido que es donde hay mas concentracion\n",
    "                # cambio la segunda hipótesis, primero a Seychelles, porque Reunión no salía. Y después a Hawai, porque no seychelles solo tiene 1 ataque\n"
   ]
  },
  {
   "cell_type": "code",
   "execution_count": 396,
   "metadata": {},
   "outputs": [
    {
     "data": {
      "text/html": [
       "<div>\n",
       "<style scoped>\n",
       "    .dataframe tbody tr th:only-of-type {\n",
       "        vertical-align: middle;\n",
       "    }\n",
       "\n",
       "    .dataframe tbody tr th {\n",
       "        vertical-align: top;\n",
       "    }\n",
       "\n",
       "    .dataframe thead th {\n",
       "        text-align: right;\n",
       "    }\n",
       "</style>\n",
       "<table border=\"1\" class=\"dataframe\">\n",
       "  <thead>\n",
       "    <tr style=\"text-align: right;\">\n",
       "      <th></th>\n",
       "      <th>Case Number</th>\n",
       "      <th>Date</th>\n",
       "      <th>Year</th>\n",
       "      <th>Type</th>\n",
       "      <th>Country</th>\n",
       "      <th>Area</th>\n",
       "      <th>Location</th>\n",
       "      <th>Activity</th>\n",
       "      <th>Name</th>\n",
       "      <th>Sex</th>\n",
       "      <th>...</th>\n",
       "      <th>Species</th>\n",
       "      <th>Investigator or Source</th>\n",
       "      <th>pdf</th>\n",
       "      <th>href formula</th>\n",
       "      <th>href</th>\n",
       "      <th>Case Number.1</th>\n",
       "      <th>Case Number.2</th>\n",
       "      <th>original order</th>\n",
       "      <th>Unnamed: 22</th>\n",
       "      <th>Unnamed: 23</th>\n",
       "    </tr>\n",
       "  </thead>\n",
       "  <tbody>\n",
       "    <tr>\n",
       "      <th>0</th>\n",
       "      <td>2018.06.25</td>\n",
       "      <td>25-Jun-2018</td>\n",
       "      <td>2018.0</td>\n",
       "      <td>Boating</td>\n",
       "      <td>USA</td>\n",
       "      <td>California</td>\n",
       "      <td>Oceanside, San Diego County</td>\n",
       "      <td>Paddling</td>\n",
       "      <td>Julie Wolfe</td>\n",
       "      <td>F</td>\n",
       "      <td>...</td>\n",
       "      <td>White shark</td>\n",
       "      <td>R. Collier, GSAF</td>\n",
       "      <td>2018.06.25-Wolfe.pdf</td>\n",
       "      <td>http://sharkattackfile.net/spreadsheets/pdf_di...</td>\n",
       "      <td>http://sharkattackfile.net/spreadsheets/pdf_di...</td>\n",
       "      <td>2018.06.25</td>\n",
       "      <td>2018.06.25</td>\n",
       "      <td>6303.0</td>\n",
       "      <td>NaN</td>\n",
       "      <td>NaN</td>\n",
       "    </tr>\n",
       "    <tr>\n",
       "      <th>1</th>\n",
       "      <td>2018.06.18</td>\n",
       "      <td>18-Jun-2018</td>\n",
       "      <td>2018.0</td>\n",
       "      <td>Unprovoked</td>\n",
       "      <td>USA</td>\n",
       "      <td>Georgia</td>\n",
       "      <td>St. Simon Island, Glynn County</td>\n",
       "      <td>Standing</td>\n",
       "      <td>Adyson McNeely</td>\n",
       "      <td>F</td>\n",
       "      <td>...</td>\n",
       "      <td>NaN</td>\n",
       "      <td>K.McMurray, TrackingSharks.com</td>\n",
       "      <td>2018.06.18-McNeely.pdf</td>\n",
       "      <td>http://sharkattackfile.net/spreadsheets/pdf_di...</td>\n",
       "      <td>http://sharkattackfile.net/spreadsheets/pdf_di...</td>\n",
       "      <td>2018.06.18</td>\n",
       "      <td>2018.06.18</td>\n",
       "      <td>6302.0</td>\n",
       "      <td>NaN</td>\n",
       "      <td>NaN</td>\n",
       "    </tr>\n",
       "    <tr>\n",
       "      <th>2</th>\n",
       "      <td>2018.06.09</td>\n",
       "      <td>09-Jun-2018</td>\n",
       "      <td>2018.0</td>\n",
       "      <td>Invalid</td>\n",
       "      <td>USA</td>\n",
       "      <td>Hawaii</td>\n",
       "      <td>Habush, Oahu</td>\n",
       "      <td>Surfing</td>\n",
       "      <td>John Denges</td>\n",
       "      <td>M</td>\n",
       "      <td>...</td>\n",
       "      <td>NaN</td>\n",
       "      <td>K.McMurray, TrackingSharks.com</td>\n",
       "      <td>2018.06.09-Denges.pdf</td>\n",
       "      <td>http://sharkattackfile.net/spreadsheets/pdf_di...</td>\n",
       "      <td>http://sharkattackfile.net/spreadsheets/pdf_di...</td>\n",
       "      <td>2018.06.09</td>\n",
       "      <td>2018.06.09</td>\n",
       "      <td>6301.0</td>\n",
       "      <td>NaN</td>\n",
       "      <td>NaN</td>\n",
       "    </tr>\n",
       "    <tr>\n",
       "      <th>3</th>\n",
       "      <td>2018.06.08</td>\n",
       "      <td>08-Jun-2018</td>\n",
       "      <td>2018.0</td>\n",
       "      <td>Unprovoked</td>\n",
       "      <td>AUSTRALIA</td>\n",
       "      <td>New South Wales</td>\n",
       "      <td>Arrawarra Headland</td>\n",
       "      <td>Surfing</td>\n",
       "      <td>male</td>\n",
       "      <td>M</td>\n",
       "      <td>...</td>\n",
       "      <td>2 m shark</td>\n",
       "      <td>B. Myatt, GSAF</td>\n",
       "      <td>2018.06.08-Arrawarra.pdf</td>\n",
       "      <td>http://sharkattackfile.net/spreadsheets/pdf_di...</td>\n",
       "      <td>http://sharkattackfile.net/spreadsheets/pdf_di...</td>\n",
       "      <td>2018.06.08</td>\n",
       "      <td>2018.06.08</td>\n",
       "      <td>6300.0</td>\n",
       "      <td>NaN</td>\n",
       "      <td>NaN</td>\n",
       "    </tr>\n",
       "    <tr>\n",
       "      <th>4</th>\n",
       "      <td>2018.06.04</td>\n",
       "      <td>04-Jun-2018</td>\n",
       "      <td>2018.0</td>\n",
       "      <td>Provoked</td>\n",
       "      <td>MEXICO</td>\n",
       "      <td>Colima</td>\n",
       "      <td>La Ticla</td>\n",
       "      <td>Free diving</td>\n",
       "      <td>Gustavo Ramos</td>\n",
       "      <td>M</td>\n",
       "      <td>...</td>\n",
       "      <td>Tiger shark, 3m</td>\n",
       "      <td>A .Kipper</td>\n",
       "      <td>2018.06.04-Ramos.pdf</td>\n",
       "      <td>http://sharkattackfile.net/spreadsheets/pdf_di...</td>\n",
       "      <td>http://sharkattackfile.net/spreadsheets/pdf_di...</td>\n",
       "      <td>2018.06.04</td>\n",
       "      <td>2018.06.04</td>\n",
       "      <td>6299.0</td>\n",
       "      <td>NaN</td>\n",
       "      <td>NaN</td>\n",
       "    </tr>\n",
       "  </tbody>\n",
       "</table>\n",
       "<p>5 rows × 24 columns</p>\n",
       "</div>"
      ],
      "text/plain": [
       "  Case Number         Date    Year        Type    Country             Area  \\\n",
       "0  2018.06.25  25-Jun-2018  2018.0     Boating        USA       California   \n",
       "1  2018.06.18  18-Jun-2018  2018.0  Unprovoked        USA          Georgia   \n",
       "2  2018.06.09  09-Jun-2018  2018.0     Invalid        USA           Hawaii   \n",
       "3  2018.06.08  08-Jun-2018  2018.0  Unprovoked  AUSTRALIA  New South Wales   \n",
       "4  2018.06.04  04-Jun-2018  2018.0    Provoked     MEXICO           Colima   \n",
       "\n",
       "                         Location     Activity             Name Sex   ...  \\\n",
       "0     Oceanside, San Diego County     Paddling      Julie Wolfe    F  ...   \n",
       "1  St. Simon Island, Glynn County     Standing  Adyson McNeely     F  ...   \n",
       "2                    Habush, Oahu      Surfing      John Denges    M  ...   \n",
       "3              Arrawarra Headland      Surfing             male    M  ...   \n",
       "4                        La Ticla  Free diving   Gustavo Ramos     M  ...   \n",
       "\n",
       "          Species           Investigator or Source                       pdf  \\\n",
       "0      White shark                R. Collier, GSAF      2018.06.25-Wolfe.pdf   \n",
       "1              NaN  K.McMurray, TrackingSharks.com    2018.06.18-McNeely.pdf   \n",
       "2              NaN  K.McMurray, TrackingSharks.com     2018.06.09-Denges.pdf   \n",
       "3        2 m shark                  B. Myatt, GSAF  2018.06.08-Arrawarra.pdf   \n",
       "4  Tiger shark, 3m                       A .Kipper      2018.06.04-Ramos.pdf   \n",
       "\n",
       "                                        href formula  \\\n",
       "0  http://sharkattackfile.net/spreadsheets/pdf_di...   \n",
       "1  http://sharkattackfile.net/spreadsheets/pdf_di...   \n",
       "2  http://sharkattackfile.net/spreadsheets/pdf_di...   \n",
       "3  http://sharkattackfile.net/spreadsheets/pdf_di...   \n",
       "4  http://sharkattackfile.net/spreadsheets/pdf_di...   \n",
       "\n",
       "                                                href Case Number.1  \\\n",
       "0  http://sharkattackfile.net/spreadsheets/pdf_di...    2018.06.25   \n",
       "1  http://sharkattackfile.net/spreadsheets/pdf_di...    2018.06.18   \n",
       "2  http://sharkattackfile.net/spreadsheets/pdf_di...    2018.06.09   \n",
       "3  http://sharkattackfile.net/spreadsheets/pdf_di...    2018.06.08   \n",
       "4  http://sharkattackfile.net/spreadsheets/pdf_di...    2018.06.04   \n",
       "\n",
       "  Case Number.2 original order Unnamed: 22 Unnamed: 23  \n",
       "0    2018.06.25         6303.0         NaN         NaN  \n",
       "1    2018.06.18         6302.0         NaN         NaN  \n",
       "2    2018.06.09         6301.0         NaN         NaN  \n",
       "3    2018.06.08         6300.0         NaN         NaN  \n",
       "4    2018.06.04         6299.0         NaN         NaN  \n",
       "\n",
       "[5 rows x 24 columns]"
      ]
     },
     "execution_count": 396,
     "metadata": {},
     "output_type": "execute_result"
    }
   ],
   "source": [
    "data.head ()"
   ]
  },
  {
   "cell_type": "code",
   "execution_count": 376,
   "metadata": {},
   "outputs": [
    {
     "data": {
      "text/html": [
       "<div>\n",
       "<style scoped>\n",
       "    .dataframe tbody tr th:only-of-type {\n",
       "        vertical-align: middle;\n",
       "    }\n",
       "\n",
       "    .dataframe tbody tr th {\n",
       "        vertical-align: top;\n",
       "    }\n",
       "\n",
       "    .dataframe thead th {\n",
       "        text-align: right;\n",
       "    }\n",
       "</style>\n",
       "<table border=\"1\" class=\"dataframe\">\n",
       "  <thead>\n",
       "    <tr style=\"text-align: right;\">\n",
       "      <th></th>\n",
       "      <th>Year</th>\n",
       "      <th>original order</th>\n",
       "    </tr>\n",
       "  </thead>\n",
       "  <tbody>\n",
       "    <tr>\n",
       "      <th>count</th>\n",
       "      <td>6300.000000</td>\n",
       "      <td>6309.000000</td>\n",
       "    </tr>\n",
       "    <tr>\n",
       "      <th>mean</th>\n",
       "      <td>1927.272381</td>\n",
       "      <td>3155.999683</td>\n",
       "    </tr>\n",
       "    <tr>\n",
       "      <th>std</th>\n",
       "      <td>281.116308</td>\n",
       "      <td>1821.396206</td>\n",
       "    </tr>\n",
       "    <tr>\n",
       "      <th>min</th>\n",
       "      <td>0.000000</td>\n",
       "      <td>2.000000</td>\n",
       "    </tr>\n",
       "    <tr>\n",
       "      <th>25%</th>\n",
       "      <td>1942.000000</td>\n",
       "      <td>1579.000000</td>\n",
       "    </tr>\n",
       "    <tr>\n",
       "      <th>50%</th>\n",
       "      <td>1977.000000</td>\n",
       "      <td>3156.000000</td>\n",
       "    </tr>\n",
       "    <tr>\n",
       "      <th>75%</th>\n",
       "      <td>2005.000000</td>\n",
       "      <td>4733.000000</td>\n",
       "    </tr>\n",
       "    <tr>\n",
       "      <th>max</th>\n",
       "      <td>2018.000000</td>\n",
       "      <td>6310.000000</td>\n",
       "    </tr>\n",
       "  </tbody>\n",
       "</table>\n",
       "</div>"
      ],
      "text/plain": [
       "              Year  original order\n",
       "count  6300.000000     6309.000000\n",
       "mean   1927.272381     3155.999683\n",
       "std     281.116308     1821.396206\n",
       "min       0.000000        2.000000\n",
       "25%    1942.000000     1579.000000\n",
       "50%    1977.000000     3156.000000\n",
       "75%    2005.000000     4733.000000\n",
       "max    2018.000000     6310.000000"
      ]
     },
     "execution_count": 376,
     "metadata": {},
     "output_type": "execute_result"
    }
   ],
   "source": [
    "data.describe ()"
   ]
  },
  {
   "cell_type": "code",
   "execution_count": 259,
   "metadata": {},
   "outputs": [
    {
     "data": {
      "text/plain": [
       "Index(['Case Number', 'Date', 'Year', 'Type', 'Country', 'Area', 'Location',\n",
       "       'Activity', 'Name', 'Sex ', 'Age', 'Injury', 'Fatal (Y/N)', 'Time',\n",
       "       'Species ', 'Investigator or Source', 'pdf', 'href formula', 'href',\n",
       "       'Case Number.1', 'Case Number.2', 'original order', 'Unnamed: 22',\n",
       "       'Unnamed: 23'],\n",
       "      dtype='object')"
      ]
     },
     "execution_count": 259,
     "metadata": {},
     "output_type": "execute_result"
    }
   ],
   "source": [
    "data.columns"
   ]
  },
  {
   "cell_type": "markdown",
   "metadata": {},
   "source": [
    "Después de echar un vistazo, vamos con las hipótesis\n",
    "\n",
    "\n",
    "1º hipotesis: los surferos provovan mas atáques que los surferos ( aqui me tengo que quedar con los provocados primero, y con los pescadores y surferos por otro)\n",
    "\n",
    "2º hipotesis : los hombres provocan mas ataques las mujeres ( aqui primero con los provocados, y con hombres y mujeres despues)\n",
    "\n",
    "3º hipotesis: en Florida ( que imagino que estará), hay más ataques de cualquier tipo que en Reunion, que he leido que es donde hay mas concentración de tiburones. ( esta hipótesis la cambiaré durante el proceso.\n",
    "           \n",
    "\n"
   ]
  },
  {
   "cell_type": "code",
   "execution_count": 3,
   "metadata": {},
   "outputs": [],
   "source": [
    "data.dropna (how=\"all\", inplace=True) #elimino filas con todos los valores NaN 1º metodo de limpieza, este será el unico filtro\n",
    "                                      # que aplicaré al dataset inicial. Para los demás iré creando variables."
   ]
  },
  {
   "cell_type": "code",
   "execution_count": 63,
   "metadata": {},
   "outputs": [],
   "source": [
    "#y ahora reduciré el df para cada hipotesis, para la primera solo me interesan: 1º ataques provocados, y sexo\n",
    "dfhipo1= data[[ \"Type\",\"Sex \", \"Name\"]] #el nombre lo he incluido después para buscar el valor n"
   ]
  },
  {
   "cell_type": "code",
   "execution_count": 64,
   "metadata": {},
   "outputs": [
    {
     "data": {
      "text/html": [
       "<div>\n",
       "<style scoped>\n",
       "    .dataframe tbody tr th:only-of-type {\n",
       "        vertical-align: middle;\n",
       "    }\n",
       "\n",
       "    .dataframe tbody tr th {\n",
       "        vertical-align: top;\n",
       "    }\n",
       "\n",
       "    .dataframe thead th {\n",
       "        text-align: right;\n",
       "    }\n",
       "</style>\n",
       "<table border=\"1\" class=\"dataframe\">\n",
       "  <thead>\n",
       "    <tr style=\"text-align: right;\">\n",
       "      <th></th>\n",
       "      <th>Type</th>\n",
       "      <th>Sex</th>\n",
       "      <th>Name</th>\n",
       "    </tr>\n",
       "  </thead>\n",
       "  <tbody>\n",
       "    <tr>\n",
       "      <th>0</th>\n",
       "      <td>Boating</td>\n",
       "      <td>F</td>\n",
       "      <td>Julie Wolfe</td>\n",
       "    </tr>\n",
       "    <tr>\n",
       "      <th>1</th>\n",
       "      <td>Unprovoked</td>\n",
       "      <td>F</td>\n",
       "      <td>Adyson McNeely</td>\n",
       "    </tr>\n",
       "    <tr>\n",
       "      <th>2</th>\n",
       "      <td>Invalid</td>\n",
       "      <td>M</td>\n",
       "      <td>John Denges</td>\n",
       "    </tr>\n",
       "    <tr>\n",
       "      <th>3</th>\n",
       "      <td>Unprovoked</td>\n",
       "      <td>M</td>\n",
       "      <td>male</td>\n",
       "    </tr>\n",
       "    <tr>\n",
       "      <th>4</th>\n",
       "      <td>Provoked</td>\n",
       "      <td>M</td>\n",
       "      <td>Gustavo Ramos</td>\n",
       "    </tr>\n",
       "  </tbody>\n",
       "</table>\n",
       "</div>"
      ],
      "text/plain": [
       "         Type Sex              Name\n",
       "0     Boating    F      Julie Wolfe\n",
       "1  Unprovoked    F  Adyson McNeely \n",
       "2     Invalid    M      John Denges\n",
       "3  Unprovoked    M             male\n",
       "4    Provoked    M   Gustavo Ramos "
      ]
     },
     "execution_count": 64,
     "metadata": {},
     "output_type": "execute_result"
    }
   ],
   "source": [
    "dfhipo1.head ()"
   ]
  },
  {
   "cell_type": "code",
   "execution_count": 65,
   "metadata": {},
   "outputs": [
    {
     "data": {
      "text/plain": [
       "(8703, 3)"
      ]
     },
     "execution_count": 65,
     "metadata": {},
     "output_type": "execute_result"
    }
   ],
   "source": [
    "dfhipo1.shape \n"
   ]
  },
  {
   "cell_type": "code",
   "execution_count": 66,
   "metadata": {},
   "outputs": [
    {
     "data": {
      "text/plain": [
       "array(['Boating', 'Unprovoked', 'Invalid', 'Provoked', 'Questionable',\n",
       "       'Sea Disaster', nan, 'Boat', 'Boatomg'], dtype=object)"
      ]
     },
     "execution_count": 66,
     "metadata": {},
     "output_type": "execute_result"
    }
   ],
   "source": [
    "# y Ahora columna a columna comprobando que los datos que contengan sean validos para hacer comprobaciones, \n",
    "# e intentando normalizar los valores en su caso, empiezo por el type, que es el condicionante principal:\n",
    "dfhipo1.Type.unique ()\n"
   ]
  },
  {
   "cell_type": "code",
   "execution_count": 67,
   "metadata": {},
   "outputs": [],
   "source": [
    "dfhipo1a = dfhipo1 [dfhipo1.Type==\"Provoked\"] #me quedo solo con los provocados 2º método de limpieza"
   ]
  },
  {
   "cell_type": "code",
   "execution_count": 68,
   "metadata": {},
   "outputs": [
    {
     "data": {
      "text/plain": [
       "array(['M', 'F', nan, 'N'], dtype=object)"
      ]
     },
     "execution_count": 68,
     "metadata": {},
     "output_type": "execute_result"
    }
   ],
   "source": [
    "dfhipo1a [\"Sex \"].unique () #vemos que hay en sexo"
   ]
  },
  {
   "cell_type": "code",
   "execution_count": 69,
   "metadata": {},
   "outputs": [
    {
     "data": {
      "text/plain": [
       "M    494\n",
       "F     22\n",
       "N      1\n",
       "Name: Sex , dtype: int64"
      ]
     },
     "execution_count": 69,
     "metadata": {},
     "output_type": "execute_result"
    }
   ],
   "source": [
    "#vemos que tenemos 4 valores, vamos a ver cuantos\"N\" tenemos y vemos qué hacemos con ellos\n",
    "\n",
    "dfhipo1a ['Sex '].value_counts() # parece que son residuales, vamos a ver si podemos verlos por el nombre, \n",
    "                                    # si la lista hubiera sido inabarcable, habria aplicado la media para rellenarlos\n",
    "\n"
   ]
  },
  {
   "cell_type": "code",
   "execution_count": 70,
   "metadata": {},
   "outputs": [
    {
     "data": {
      "text/html": [
       "<div>\n",
       "<style scoped>\n",
       "    .dataframe tbody tr th:only-of-type {\n",
       "        vertical-align: middle;\n",
       "    }\n",
       "\n",
       "    .dataframe tbody tr th {\n",
       "        vertical-align: top;\n",
       "    }\n",
       "\n",
       "    .dataframe thead th {\n",
       "        text-align: right;\n",
       "    }\n",
       "</style>\n",
       "<table border=\"1\" class=\"dataframe\">\n",
       "  <thead>\n",
       "    <tr style=\"text-align: right;\">\n",
       "      <th></th>\n",
       "      <th>Type</th>\n",
       "      <th>Sex</th>\n",
       "      <th>Name</th>\n",
       "    </tr>\n",
       "  </thead>\n",
       "  <tbody>\n",
       "    <tr>\n",
       "      <th>6131</th>\n",
       "      <td>Provoked</td>\n",
       "      <td>N</td>\n",
       "      <td>Stephen Pettigew</td>\n",
       "    </tr>\n",
       "  </tbody>\n",
       "</table>\n",
       "</div>"
      ],
      "text/plain": [
       "          Type Sex               Name\n",
       "6131  Provoked    N  Stephen Pettigew"
      ]
     },
     "execution_count": 70,
     "metadata": {},
     "output_type": "execute_result"
    }
   ],
   "source": [
    "dfhipo1a [dfhipo1a[\"Sex \"]. isin ([\"N\"])] # stephen parece hombre\n"
   ]
  },
  {
   "cell_type": "code",
   "execution_count": 71,
   "metadata": {},
   "outputs": [
    {
     "name": "stderr",
     "output_type": "stream",
     "text": [
      "C:\\Users\\asiok\\anaconda3\\lib\\site-packages\\pandas\\core\\series.py:4563: SettingWithCopyWarning: \n",
      "A value is trying to be set on a copy of a slice from a DataFrame\n",
      "\n",
      "See the caveats in the documentation: https://pandas.pydata.org/pandas-docs/stable/user_guide/indexing.html#returning-a-view-versus-a-copy\n",
      "  return super().replace(\n"
     ]
    }
   ],
   "source": [
    "dfhipo1a [\"Sex \"].replace ({\"N\" : \"M\"}, inplace=True) #lo reemplazo 3º metodo limpieza"
   ]
  },
  {
   "cell_type": "code",
   "execution_count": 72,
   "metadata": {},
   "outputs": [
    {
     "data": {
      "text/plain": [
       "M    495\n",
       "F     22\n",
       "Name: Sex , dtype: int64"
      ]
     },
     "execution_count": 72,
     "metadata": {},
     "output_type": "execute_result"
    }
   ],
   "source": [
    "dfhipo1a [\"Sex \"].value_counts () #1º hipotesis , sigo con las hipotesis y luego me pondré a hacer graficos"
   ]
  },
  {
   "cell_type": "markdown",
   "metadata": {},
   "source": [
    "Con esto quedaría validada la primera hipótesis, los hombres provocan más ataques que las mujeres."
   ]
  },
  {
   "cell_type": "code",
   "execution_count": 391,
   "metadata": {},
   "outputs": [
    {
     "data": {
      "text/plain": [
       "<AxesSubplot:xlabel='Sex ', ylabel='count'>"
      ]
     },
     "execution_count": 391,
     "metadata": {},
     "output_type": "execute_result"
    },
    {
     "data": {
      "image/png": "[encoded data removed]",
      "text/plain": [
       "<Figure size 432x288 with 1 Axes>"
      ]
     },
     "metadata": {
      "needs_background": "light"
     },
     "output_type": "display_data"
    }
   ],
   "source": [
    "#aquí voy viendo las imagenes y las guardo para el archivo de visualización\n",
    "imagengenero = sb.countplot (x=dfhipo1a [\"Sex \"])\n",
    "imagengenero"
   ]
  },
  {
   "cell_type": "code",
   "execution_count": 397,
   "metadata": {},
   "outputs": [
    {
     "data": {
      "text/plain": [
       "<AxesSubplot:xlabel='Sex ', ylabel='count'>"
      ]
     },
     "execution_count": 397,
     "metadata": {},
     "output_type": "execute_result"
    },
    {
     "data": {
      "image/png": "[encoded data removed]",
      "text/plain": [
       "<Figure size 432x288 with 1 Axes>"
      ]
     },
     "metadata": {
      "needs_background": "light"
     },
     "output_type": "display_data"
    }
   ],
   "source": [
    "imagengenerosucia = sb.countplot (x=data [\"Sex \"])\n",
    "imagengenerosucia"
   ]
  },
  {
   "cell_type": "code",
   "execution_count": 399,
   "metadata": {},
   "outputs": [],
   "source": [
    "imagengenero.figure.savefig (\"imagengenero.jpg\", dpi=500)\n",
    "imagengenerosucia.figure.savefig (\"imagengenerosucia.jpg\", dpi=500)"
   ]
  },
  {
   "cell_type": "code",
   "execution_count": 5,
   "metadata": {},
   "outputs": [],
   "source": [
    "# para la segunda, en principio voy a hacer lo mismo que en la anterior:\n",
    "dfhipo2= data [[ \"Type\", \"Activity\"]]"
   ]
  },
  {
   "cell_type": "code",
   "execution_count": 9,
   "metadata": {},
   "outputs": [],
   "source": [
    "dfhipo2a = dfhipo2 [dfhipo2.Type == \"Provoked\"]"
   ]
  },
  {
   "cell_type": "code",
   "execution_count": 10,
   "metadata": {},
   "outputs": [
    {
     "data": {
      "text/html": [
       "<div>\n",
       "<style scoped>\n",
       "    .dataframe tbody tr th:only-of-type {\n",
       "        vertical-align: middle;\n",
       "    }\n",
       "\n",
       "    .dataframe tbody tr th {\n",
       "        vertical-align: top;\n",
       "    }\n",
       "\n",
       "    .dataframe thead th {\n",
       "        text-align: right;\n",
       "    }\n",
       "</style>\n",
       "<table border=\"1\" class=\"dataframe\">\n",
       "  <thead>\n",
       "    <tr style=\"text-align: right;\">\n",
       "      <th></th>\n",
       "      <th>Type</th>\n",
       "      <th>Activity</th>\n",
       "    </tr>\n",
       "  </thead>\n",
       "  <tbody>\n",
       "    <tr>\n",
       "      <th>0</th>\n",
       "      <td>Boating</td>\n",
       "      <td>Paddling</td>\n",
       "    </tr>\n",
       "    <tr>\n",
       "      <th>1</th>\n",
       "      <td>Unprovoked</td>\n",
       "      <td>Standing</td>\n",
       "    </tr>\n",
       "    <tr>\n",
       "      <th>2</th>\n",
       "      <td>Invalid</td>\n",
       "      <td>Surfing</td>\n",
       "    </tr>\n",
       "    <tr>\n",
       "      <th>3</th>\n",
       "      <td>Unprovoked</td>\n",
       "      <td>Surfing</td>\n",
       "    </tr>\n",
       "    <tr>\n",
       "      <th>4</th>\n",
       "      <td>Provoked</td>\n",
       "      <td>Free diving</td>\n",
       "    </tr>\n",
       "    <tr>\n",
       "      <th>...</th>\n",
       "      <td>...</td>\n",
       "      <td>...</td>\n",
       "    </tr>\n",
       "    <tr>\n",
       "      <th>8698</th>\n",
       "      <td>nada</td>\n",
       "      <td>nada</td>\n",
       "    </tr>\n",
       "    <tr>\n",
       "      <th>8699</th>\n",
       "      <td>nada</td>\n",
       "      <td>nada</td>\n",
       "    </tr>\n",
       "    <tr>\n",
       "      <th>8700</th>\n",
       "      <td>nada</td>\n",
       "      <td>nada</td>\n",
       "    </tr>\n",
       "    <tr>\n",
       "      <th>8701</th>\n",
       "      <td>nada</td>\n",
       "      <td>nada</td>\n",
       "    </tr>\n",
       "    <tr>\n",
       "      <th>25722</th>\n",
       "      <td>nada</td>\n",
       "      <td>nada</td>\n",
       "    </tr>\n",
       "  </tbody>\n",
       "</table>\n",
       "<p>8703 rows × 2 columns</p>\n",
       "</div>"
      ],
      "text/plain": [
       "             Type     Activity\n",
       "0         Boating     Paddling\n",
       "1      Unprovoked     Standing\n",
       "2         Invalid      Surfing\n",
       "3      Unprovoked      Surfing\n",
       "4        Provoked  Free diving\n",
       "...           ...          ...\n",
       "8698         nada         nada\n",
       "8699         nada         nada\n",
       "8700         nada         nada\n",
       "8701         nada         nada\n",
       "25722        nada         nada\n",
       "\n",
       "[8703 rows x 2 columns]"
      ]
     },
     "execution_count": 10,
     "metadata": {},
     "output_type": "execute_result"
    }
   ],
   "source": [
    "dfhipo2a.fillna ( \"nada\" )"
   ]
  },
  {
   "cell_type": "code",
   "execution_count": 11,
   "metadata": {},
   "outputs": [
    {
     "data": {
      "text/plain": [
       "Surfing                                                      971\n",
       "Swimming                                                     869\n",
       "Fishing                                                      431\n",
       "Spearfishing                                                 333\n",
       "Bathing                                                      162\n",
       "                                                            ... \n",
       "Boat of the Resolution capsized in the breakers                1\n",
       "S2F-1 airplane crashed immediately after carrier take-off      1\n",
       "Fishing for pompano                                            1\n",
       "Swimming along side N.E.L. vessel Saluda                       1\n",
       "Bathing in 3' to 4' of water                                   1\n",
       "Name: Activity, Length: 1532, dtype: int64"
      ]
     },
     "execution_count": 11,
     "metadata": {},
     "output_type": "execute_result"
    }
   ],
   "source": [
    "dfhipo2a.Activity.value_counts () # Aquí nos encontramos con el primer problema real, buscar strings, tras intentar regex,\n",
    "                                  # e intentar el uso de filtros, doy con str.contains\n",
    "\n",
    "\n",
    "\n"
   ]
  },
  {
   "cell_type": "code",
   "execution_count": 12,
   "metadata": {},
   "outputs": [
    {
     "data": {
      "text/html": [
       "<div>\n",
       "<style scoped>\n",
       "    .dataframe tbody tr th:only-of-type {\n",
       "        vertical-align: middle;\n",
       "    }\n",
       "\n",
       "    .dataframe tbody tr th {\n",
       "        vertical-align: top;\n",
       "    }\n",
       "\n",
       "    .dataframe thead th {\n",
       "        text-align: right;\n",
       "    }\n",
       "</style>\n",
       "<table border=\"1\" class=\"dataframe\">\n",
       "  <thead>\n",
       "    <tr style=\"text-align: right;\">\n",
       "      <th></th>\n",
       "      <th>Type</th>\n",
       "      <th>Activity</th>\n",
       "    </tr>\n",
       "  </thead>\n",
       "  <tbody>\n",
       "    <tr>\n",
       "      <th>2</th>\n",
       "      <td>Invalid</td>\n",
       "      <td>Surfing</td>\n",
       "    </tr>\n",
       "    <tr>\n",
       "      <th>3</th>\n",
       "      <td>Unprovoked</td>\n",
       "      <td>Surfing</td>\n",
       "    </tr>\n",
       "    <tr>\n",
       "      <th>15</th>\n",
       "      <td>Unprovoked</td>\n",
       "      <td>Surfing</td>\n",
       "    </tr>\n",
       "    <tr>\n",
       "      <th>16</th>\n",
       "      <td>Questionable</td>\n",
       "      <td>Surfing</td>\n",
       "    </tr>\n",
       "    <tr>\n",
       "      <th>19</th>\n",
       "      <td>Unprovoked</td>\n",
       "      <td>Surfing</td>\n",
       "    </tr>\n",
       "    <tr>\n",
       "      <th>...</th>\n",
       "      <td>...</td>\n",
       "      <td>...</td>\n",
       "    </tr>\n",
       "    <tr>\n",
       "      <th>5280</th>\n",
       "      <td>Unprovoked</td>\n",
       "      <td>Surfing</td>\n",
       "    </tr>\n",
       "    <tr>\n",
       "      <th>5406</th>\n",
       "      <td>Unprovoked</td>\n",
       "      <td>Surf bathing</td>\n",
       "    </tr>\n",
       "    <tr>\n",
       "      <th>6097</th>\n",
       "      <td>Unprovoked</td>\n",
       "      <td>Surfing</td>\n",
       "    </tr>\n",
       "    <tr>\n",
       "      <th>6143</th>\n",
       "      <td>Unprovoked</td>\n",
       "      <td>Surfing</td>\n",
       "    </tr>\n",
       "    <tr>\n",
       "      <th>6201</th>\n",
       "      <td>Unprovoked</td>\n",
       "      <td>Surfing</td>\n",
       "    </tr>\n",
       "  </tbody>\n",
       "</table>\n",
       "<p>1077 rows × 2 columns</p>\n",
       "</div>"
      ],
      "text/plain": [
       "              Type      Activity\n",
       "2          Invalid       Surfing\n",
       "3       Unprovoked       Surfing\n",
       "15      Unprovoked       Surfing\n",
       "16    Questionable       Surfing\n",
       "19      Unprovoked       Surfing\n",
       "...            ...           ...\n",
       "5280    Unprovoked       Surfing\n",
       "5406    Unprovoked  Surf bathing\n",
       "6097    Unprovoked       Surfing\n",
       "6143    Unprovoked       Surfing\n",
       "6201    Unprovoked       Surfing\n",
       "\n",
       "[1077 rows x 2 columns]"
      ]
     },
     "execution_count": 12,
     "metadata": {},
     "output_type": "execute_result"
    }
   ],
   "source": [
    "dfhipo2a [ dfhipo2a.Activity.str.contains (\"Surf\", na=False )] #na=False porque debe de haber algo que contenga nan que me impide avanzar\n",
    "                                                             # en cualquier caso, con esto no va a ser suficiente, faltan las minúsculas."
   ]
  },
  {
   "cell_type": "code",
   "execution_count": 13,
   "metadata": {},
   "outputs": [],
   "source": [
    "dfhipo2b = dfhipo2a [dfhipo2a.Activity.str.contains ('surf|fish', case=False, na=False)]#el case obvia las mayusculas/minusculas\n",
    "# https://www.analyticslane.com/2020/01/13/filtrado-de-cadenas-de-texto-en-dataframe-con-pandas/ 4º metodo\n",
    "# Con esta linea me quedo solo con las filas que contengan surf o fish"
   ]
  },
  {
   "cell_type": "code",
   "execution_count": 250,
   "metadata": {},
   "outputs": [],
   "source": [
    "#ahora para seguir reduciendo, vamos a ver si puedo simplificar las actividades a surf y fishing, probaremos con una función que no me saldrá\n",
    "def reduciendo (x): #unica funcion de momento\n",
    "    for item in x:\n",
    "        if \"surf\" in x:\n",
    "            return \"Surfing\"\n",
    "        if \"Surf\" in x:\n",
    "            return \"Surfing\"\n",
    "        else:\n",
    "            return \"Fishing\"\n"
   ]
  },
  {
   "cell_type": "code",
   "execution_count": 251,
   "metadata": {},
   "outputs": [
    {
     "name": "stderr",
     "output_type": "stream",
     "text": [
      "<ipython-input-251-6955f64cd5f6>:1: SettingWithCopyWarning: \n",
      "A value is trying to be set on a copy of a slice from a DataFrame.\n",
      "Try using .loc[row_indexer,col_indexer] = value instead\n",
      "\n",
      "See the caveats in the documentation: https://pandas.pydata.org/pandas-docs/stable/user_guide/indexing.html#returning-a-view-versus-a-copy\n",
      "  dfhipo2b[\"Activity\"]=dfhipo2b[\"Activity\"].apply (reduciendo)\n"
     ]
    }
   ],
   "source": [
    "dfhipo2b [\"Activity\"] = dfhipo2b [\"Activity\"].apply (reduciendo) #modifico la columna con los nuevos valores"
   ]
  },
  {
   "cell_type": "code",
   "execution_count": 254,
   "metadata": {},
   "outputs": [
    {
     "data": {
      "text/plain": [
       "Fishing    324\n",
       "Surfing     23\n",
       "Name: Activity, dtype: int64"
      ]
     },
     "execution_count": 254,
     "metadata": {},
     "output_type": "execute_result"
    }
   ],
   "source": [
    "dfhipo2b.Activity.value_counts() #y también dejamos los graficos para luego"
   ]
  },
  {
   "cell_type": "markdown",
   "metadata": {},
   "source": [
    "La segunda hipótesis queda falsada, los pescadores provocan mas ataques."
   ]
  },
  {
   "cell_type": "code",
   "execution_count": 385,
   "metadata": {},
   "outputs": [
    {
     "data": {
      "text/plain": [
       "<AxesSubplot:xlabel='Activity', ylabel='count'>"
      ]
     },
     "execution_count": 385,
     "metadata": {},
     "output_type": "execute_result"
    },
    {
     "data": {
      "image/png": "[encoded data removed]",
      "text/plain": [
       "<Figure size 432x288 with 1 Axes>"
      ]
     },
     "metadata": {
      "needs_background": "light"
     },
     "output_type": "display_data"
    }
   ],
   "source": [
    "imagenactividad = sb.countplot ( x=dfhipo2b.Activity)\n",
    "imagenactividad"
   ]
  },
  {
   "cell_type": "code",
   "execution_count": 388,
   "metadata": {},
   "outputs": [],
   "source": [
    "imagenactividad.figure.savefig (\"imagenactividad.jpg\", dpi=500)"
   ]
  },
  {
   "cell_type": "code",
   "execution_count": 14,
   "metadata": {},
   "outputs": [
    {
     "name": "stderr",
     "output_type": "stream",
     "text": [
      "C:\\Users\\asiok\\anaconda3\\lib\\site-packages\\matplotlib\\backends\\backend_agg.py:238: RuntimeWarning: Glyph 150 missing from current font.\n",
      "  font.set_text(s, 0.0, flags=flags)\n",
      "C:\\Users\\asiok\\anaconda3\\lib\\site-packages\\matplotlib\\backends\\backend_agg.py:238: RuntimeWarning: Glyph 146 missing from current font.\n",
      "  font.set_text(s, 0.0, flags=flags)\n",
      "C:\\Users\\asiok\\anaconda3\\lib\\site-packages\\matplotlib\\backends\\backend_agg.py:201: RuntimeWarning: Glyph 150 missing from current font.\n",
      "  font.set_text(s, 0, flags=flags)\n",
      "C:\\Users\\asiok\\anaconda3\\lib\\site-packages\\matplotlib\\backends\\backend_agg.py:201: RuntimeWarning: Glyph 146 missing from current font.\n",
      "  font.set_text(s, 0, flags=flags)\n"
     ]
    },
    {
     "data": {
      "image/png": "[encoded data removed]",
      "text/plain": [
       "<Figure size 432x288 with 1 Axes>"
      ]
     },
     "metadata": {
      "needs_background": "light"
     },
     "output_type": "display_data"
    }
   ],
   "source": [
    "imagenactividadsucia = sb.countplot( x=dfhipo2a.Activity)\n",
    "imagenactividadsucia.figure.savefig( \"imagenactividadsucia.jpg\", dpi=500)"
   ]
  },
  {
   "cell_type": "code",
   "execution_count": 21,
   "metadata": {},
   "outputs": [
    {
     "name": "stderr",
     "output_type": "stream",
     "text": [
      "C:\\Users\\asiok\\anaconda3\\lib\\site-packages\\matplotlib\\backends\\backend_agg.py:238: RuntimeWarning: Glyph 150 missing from current font.\n",
      "  font.set_text(s, 0.0, flags=flags)\n",
      "C:\\Users\\asiok\\anaconda3\\lib\\site-packages\\matplotlib\\backends\\backend_agg.py:201: RuntimeWarning: Glyph 150 missing from current font.\n",
      "  font.set_text(s, 0, flags=flags)\n"
     ]
    }
   ],
   "source": [
    "imagenactividadsucia.figure.savefig (\"imagenactividadsucia.jpg\", dpi=500)"
   ]
  },
  {
   "cell_type": "markdown",
   "metadata": {},
   "source": [
    "Vamos con la 3º hipotesis: en Florida ( que imagino que estará), hay más ataques de cualquier tipo que en Reunion, que he leido que es donde hay mas concentracion"
   ]
  },
  {
   "cell_type": "code",
   "execution_count": 299,
   "metadata": {},
   "outputs": [
    {
     "data": {
      "text/html": [
       "<div>\n",
       "<style scoped>\n",
       "    .dataframe tbody tr th:only-of-type {\n",
       "        vertical-align: middle;\n",
       "    }\n",
       "\n",
       "    .dataframe tbody tr th {\n",
       "        vertical-align: top;\n",
       "    }\n",
       "\n",
       "    .dataframe thead th {\n",
       "        text-align: right;\n",
       "    }\n",
       "</style>\n",
       "<table border=\"1\" class=\"dataframe\">\n",
       "  <thead>\n",
       "    <tr style=\"text-align: right;\">\n",
       "      <th></th>\n",
       "      <th>Country</th>\n",
       "      <th>Area</th>\n",
       "      <th>Location</th>\n",
       "    </tr>\n",
       "  </thead>\n",
       "  <tbody>\n",
       "    <tr>\n",
       "      <th>4353</th>\n",
       "      <td>MEXICO</td>\n",
       "      <td>Baja California</td>\n",
       "      <td>NaN</td>\n",
       "    </tr>\n",
       "    <tr>\n",
       "      <th>5626</th>\n",
       "      <td>HAITI</td>\n",
       "      <td>Off Cape Haitien</td>\n",
       "      <td>NaN</td>\n",
       "    </tr>\n",
       "    <tr>\n",
       "      <th>3434</th>\n",
       "      <td>DOMINICAN REPUBLIC</td>\n",
       "      <td>NaN</td>\n",
       "      <td>NaN</td>\n",
       "    </tr>\n",
       "    <tr>\n",
       "      <th>265</th>\n",
       "      <td>USA</td>\n",
       "      <td>South Carolina</td>\n",
       "      <td>Folly Beach, Charleston County</td>\n",
       "    </tr>\n",
       "    <tr>\n",
       "      <th>6166</th>\n",
       "      <td>INDIA</td>\n",
       "      <td>West Bengal</td>\n",
       "      <td>Hooghly River mouth</td>\n",
       "    </tr>\n",
       "    <tr>\n",
       "      <th>968</th>\n",
       "      <td>USA</td>\n",
       "      <td>Palmyra Atoll</td>\n",
       "      <td>NaN</td>\n",
       "    </tr>\n",
       "    <tr>\n",
       "      <th>3701</th>\n",
       "      <td>NEW ZEALAND</td>\n",
       "      <td>South Island</td>\n",
       "      <td>Ngatuka Bay, near Picton</td>\n",
       "    </tr>\n",
       "    <tr>\n",
       "      <th>3048</th>\n",
       "      <td>SOUTH AFRICA</td>\n",
       "      <td>Eastern Cape Province</td>\n",
       "      <td>Nahoon</td>\n",
       "    </tr>\n",
       "    <tr>\n",
       "      <th>208</th>\n",
       "      <td>USA</td>\n",
       "      <td>Oregon</td>\n",
       "      <td>Indian Beach, Ecola State Park, Clatsop County</td>\n",
       "    </tr>\n",
       "    <tr>\n",
       "      <th>3773</th>\n",
       "      <td>MOZAMBIQUE</td>\n",
       "      <td>NaN</td>\n",
       "      <td>Limpopo River, 547 km from the sea</td>\n",
       "    </tr>\n",
       "    <tr>\n",
       "      <th>2181</th>\n",
       "      <td>AUSTRALIA</td>\n",
       "      <td>South Australia</td>\n",
       "      <td>South Neptune Island</td>\n",
       "    </tr>\n",
       "    <tr>\n",
       "      <th>710</th>\n",
       "      <td>NEW ZEALAND</td>\n",
       "      <td>Mercury Islands</td>\n",
       "      <td>Great Mercury Island</td>\n",
       "    </tr>\n",
       "    <tr>\n",
       "      <th>4326</th>\n",
       "      <td>HONG KONG</td>\n",
       "      <td>NaN</td>\n",
       "      <td>Junk Bay</td>\n",
       "    </tr>\n",
       "    <tr>\n",
       "      <th>1991</th>\n",
       "      <td>USA</td>\n",
       "      <td>Florida</td>\n",
       "      <td>Vaughn Beach, Flagler County</td>\n",
       "    </tr>\n",
       "    <tr>\n",
       "      <th>838</th>\n",
       "      <td>USA</td>\n",
       "      <td>Oregon</td>\n",
       "      <td>Seaside Cove</td>\n",
       "    </tr>\n",
       "    <tr>\n",
       "      <th>4506</th>\n",
       "      <td>ITALY</td>\n",
       "      <td>Calabria</td>\n",
       "      <td>Cosenza</td>\n",
       "    </tr>\n",
       "    <tr>\n",
       "      <th>3923</th>\n",
       "      <td>SOUTH AFRICA</td>\n",
       "      <td>Eastern Cape Province</td>\n",
       "      <td>Nahoon</td>\n",
       "    </tr>\n",
       "    <tr>\n",
       "      <th>600</th>\n",
       "      <td>USA</td>\n",
       "      <td>Oregon</td>\n",
       "      <td>Gleneden Beach, Lincoln County</td>\n",
       "    </tr>\n",
       "    <tr>\n",
       "      <th>5104</th>\n",
       "      <td>INDIA</td>\n",
       "      <td>NaN</td>\n",
       "      <td>NaN</td>\n",
       "    </tr>\n",
       "    <tr>\n",
       "      <th>3437</th>\n",
       "      <td>USA</td>\n",
       "      <td>Florida</td>\n",
       "      <td>Marathon, Monroe County</td>\n",
       "    </tr>\n",
       "    <tr>\n",
       "      <th>5933</th>\n",
       "      <td>AUSTRALIA</td>\n",
       "      <td>Western Australia</td>\n",
       "      <td>Off De Grey river</td>\n",
       "    </tr>\n",
       "    <tr>\n",
       "      <th>1449</th>\n",
       "      <td>USA</td>\n",
       "      <td>Kentucky</td>\n",
       "      <td>Newport Aquarium, Newport</td>\n",
       "    </tr>\n",
       "    <tr>\n",
       "      <th>6294</th>\n",
       "      <td>AUSTRALIA</td>\n",
       "      <td>NaN</td>\n",
       "      <td>NaN</td>\n",
       "    </tr>\n",
       "    <tr>\n",
       "      <th>89</th>\n",
       "      <td>AUSTRALIA</td>\n",
       "      <td>New South Wales</td>\n",
       "      <td>Iluka Beach</td>\n",
       "    </tr>\n",
       "    <tr>\n",
       "      <th>1239</th>\n",
       "      <td>UNITED KINGDOM</td>\n",
       "      <td>Sussex</td>\n",
       "      <td>Rock-a-Nore, Hastings</td>\n",
       "    </tr>\n",
       "    <tr>\n",
       "      <th>882</th>\n",
       "      <td>USA</td>\n",
       "      <td>North Carolina</td>\n",
       "      <td>Wrightsville Beach, New Hanover County</td>\n",
       "    </tr>\n",
       "    <tr>\n",
       "      <th>6126</th>\n",
       "      <td>USA</td>\n",
       "      <td>New York</td>\n",
       "      <td>Sag Harbor, Suffolk County</td>\n",
       "    </tr>\n",
       "    <tr>\n",
       "      <th>1232</th>\n",
       "      <td>USA</td>\n",
       "      <td>Florida</td>\n",
       "      <td>New Smyrna Beach, Volusia County</td>\n",
       "    </tr>\n",
       "    <tr>\n",
       "      <th>5623</th>\n",
       "      <td>USA</td>\n",
       "      <td>South Carolina</td>\n",
       "      <td>Charleston</td>\n",
       "    </tr>\n",
       "    <tr>\n",
       "      <th>3068</th>\n",
       "      <td>MEXICO</td>\n",
       "      <td>Sinaloa</td>\n",
       "      <td>Mazatlán</td>\n",
       "    </tr>\n",
       "    <tr>\n",
       "      <th>766</th>\n",
       "      <td>USA</td>\n",
       "      <td>North Carolina</td>\n",
       "      <td>North Topsail Beach, Onslow County</td>\n",
       "    </tr>\n",
       "    <tr>\n",
       "      <th>2773</th>\n",
       "      <td>USA</td>\n",
       "      <td>Texas</td>\n",
       "      <td>Mustang Island, near Port Aransas</td>\n",
       "    </tr>\n",
       "    <tr>\n",
       "      <th>2051</th>\n",
       "      <td>USA</td>\n",
       "      <td>Alabama</td>\n",
       "      <td>Gulf Shores, Baldwin County</td>\n",
       "    </tr>\n",
       "    <tr>\n",
       "      <th>2641</th>\n",
       "      <td>AUSTRALIA</td>\n",
       "      <td>Queensland</td>\n",
       "      <td>Fingal Beach</td>\n",
       "    </tr>\n",
       "    <tr>\n",
       "      <th>5672</th>\n",
       "      <td>NEW ZEALAND</td>\n",
       "      <td>South Island?</td>\n",
       "      <td>Downs River</td>\n",
       "    </tr>\n",
       "    <tr>\n",
       "      <th>4058</th>\n",
       "      <td>BERMUDA</td>\n",
       "      <td>Hamilton</td>\n",
       "      <td>Astwood's Cove</td>\n",
       "    </tr>\n",
       "    <tr>\n",
       "      <th>4522</th>\n",
       "      <td>ITALY</td>\n",
       "      <td>Tyrrhenian Sea</td>\n",
       "      <td>San Vincenzo</td>\n",
       "    </tr>\n",
       "    <tr>\n",
       "      <th>706</th>\n",
       "      <td>AUSTRALIA</td>\n",
       "      <td>Victoria</td>\n",
       "      <td>Cape Nelson</td>\n",
       "    </tr>\n",
       "    <tr>\n",
       "      <th>609</th>\n",
       "      <td>AUSTRALIA</td>\n",
       "      <td>New South Wales</td>\n",
       "      <td>South Narrabeen Beach</td>\n",
       "    </tr>\n",
       "    <tr>\n",
       "      <th>3865</th>\n",
       "      <td>AUSTRALIA</td>\n",
       "      <td>Western Australia</td>\n",
       "      <td>North of main swimming area in Waterman's Bay ...</td>\n",
       "    </tr>\n",
       "    <tr>\n",
       "      <th>969</th>\n",
       "      <td>DOMINICAN REPUBLIC</td>\n",
       "      <td>NaN</td>\n",
       "      <td>Boca Chica</td>\n",
       "    </tr>\n",
       "    <tr>\n",
       "      <th>5131</th>\n",
       "      <td>NICARAGUA</td>\n",
       "      <td>Salinas Bay</td>\n",
       "      <td>A shark was caught, its head severed from body...</td>\n",
       "    </tr>\n",
       "    <tr>\n",
       "      <th>2491</th>\n",
       "      <td>MEXICO</td>\n",
       "      <td>Quintana Roo</td>\n",
       "      <td>Santa Rosa Shallows, Cozumel</td>\n",
       "    </tr>\n",
       "    <tr>\n",
       "      <th>2418</th>\n",
       "      <td>USA</td>\n",
       "      <td>Florida</td>\n",
       "      <td>Bill Baggs Cape Florida State Recreation Area,...</td>\n",
       "    </tr>\n",
       "    <tr>\n",
       "      <th>3480</th>\n",
       "      <td>USA</td>\n",
       "      <td>Florida</td>\n",
       "      <td>Jensen Beach, Martin County</td>\n",
       "    </tr>\n",
       "    <tr>\n",
       "      <th>4400</th>\n",
       "      <td>USA</td>\n",
       "      <td>Hawaii</td>\n",
       "      <td>Maile Beach, O'ahu</td>\n",
       "    </tr>\n",
       "    <tr>\n",
       "      <th>2969</th>\n",
       "      <td>SOUTH AFRICA</td>\n",
       "      <td>Western Cape Province</td>\n",
       "      <td>Langebaan</td>\n",
       "    </tr>\n",
       "    <tr>\n",
       "      <th>3032</th>\n",
       "      <td>NAMIBIA</td>\n",
       "      <td>Eronogo Region</td>\n",
       "      <td>Walvis Bay</td>\n",
       "    </tr>\n",
       "    <tr>\n",
       "      <th>367</th>\n",
       "      <td>AUSTRALIA</td>\n",
       "      <td>New South Wales</td>\n",
       "      <td>Hallidays Point</td>\n",
       "    </tr>\n",
       "    <tr>\n",
       "      <th>415</th>\n",
       "      <td>USA</td>\n",
       "      <td>North Carolina</td>\n",
       "      <td>Ocean Isle, Brunswick County</td>\n",
       "    </tr>\n",
       "  </tbody>\n",
       "</table>\n",
       "</div>"
      ],
      "text/plain": [
       "                 Country                   Area  \\\n",
       "4353              MEXICO        Baja California   \n",
       "5626               HAITI       Off Cape Haitien   \n",
       "3434  DOMINICAN REPUBLIC                    NaN   \n",
       "265                  USA         South Carolina   \n",
       "6166               INDIA            West Bengal   \n",
       "968                  USA          Palmyra Atoll   \n",
       "3701         NEW ZEALAND           South Island   \n",
       "3048        SOUTH AFRICA  Eastern Cape Province   \n",
       "208                  USA                 Oregon   \n",
       "3773          MOZAMBIQUE                    NaN   \n",
       "2181           AUSTRALIA        South Australia   \n",
       "710          NEW ZEALAND        Mercury Islands   \n",
       "4326           HONG KONG                    NaN   \n",
       "1991                 USA                Florida   \n",
       "838                  USA                 Oregon   \n",
       "4506               ITALY               Calabria   \n",
       "3923        SOUTH AFRICA  Eastern Cape Province   \n",
       "600                  USA                 Oregon   \n",
       "5104               INDIA                    NaN   \n",
       "3437                 USA                Florida   \n",
       "5933           AUSTRALIA      Western Australia   \n",
       "1449                 USA               Kentucky   \n",
       "6294           AUSTRALIA                    NaN   \n",
       "89             AUSTRALIA        New South Wales   \n",
       "1239      UNITED KINGDOM                 Sussex   \n",
       "882                  USA         North Carolina   \n",
       "6126                 USA               New York   \n",
       "1232                 USA                Florida   \n",
       "5623                 USA         South Carolina   \n",
       "3068              MEXICO                Sinaloa   \n",
       "766                  USA         North Carolina   \n",
       "2773                 USA                  Texas   \n",
       "2051                 USA                Alabama   \n",
       "2641           AUSTRALIA             Queensland   \n",
       "5672         NEW ZEALAND          South Island?   \n",
       "4058             BERMUDA               Hamilton   \n",
       "4522               ITALY         Tyrrhenian Sea   \n",
       "706            AUSTRALIA               Victoria   \n",
       "609            AUSTRALIA        New South Wales   \n",
       "3865           AUSTRALIA      Western Australia   \n",
       "969   DOMINICAN REPUBLIC                    NaN   \n",
       "5131           NICARAGUA            Salinas Bay   \n",
       "2491              MEXICO           Quintana Roo   \n",
       "2418                 USA                Florida   \n",
       "3480                 USA                Florida   \n",
       "4400                 USA                 Hawaii   \n",
       "2969        SOUTH AFRICA  Western Cape Province   \n",
       "3032             NAMIBIA         Eronogo Region   \n",
       "367            AUSTRALIA        New South Wales   \n",
       "415                  USA         North Carolina   \n",
       "\n",
       "                                               Location  \n",
       "4353                                                NaN  \n",
       "5626                                                NaN  \n",
       "3434                                                NaN  \n",
       "265                      Folly Beach, Charleston County  \n",
       "6166                                Hooghly River mouth  \n",
       "968                                                 NaN  \n",
       "3701                           Ngatuka Bay, near Picton  \n",
       "3048                                             Nahoon  \n",
       "208      Indian Beach, Ecola State Park, Clatsop County  \n",
       "3773                 Limpopo River, 547 km from the sea  \n",
       "2181                               South Neptune Island  \n",
       "710                                Great Mercury Island  \n",
       "4326                                           Junk Bay  \n",
       "1991                       Vaughn Beach, Flagler County  \n",
       "838                                        Seaside Cove  \n",
       "4506                                            Cosenza  \n",
       "3923                                             Nahoon  \n",
       "600                      Gleneden Beach, Lincoln County  \n",
       "5104                                                NaN  \n",
       "3437                            Marathon, Monroe County  \n",
       "5933                                  Off De Grey river  \n",
       "1449                          Newport Aquarium, Newport  \n",
       "6294                                                NaN  \n",
       "89                                          Iluka Beach  \n",
       "1239                              Rock-a-Nore, Hastings  \n",
       "882              Wrightsville Beach, New Hanover County  \n",
       "6126                         Sag Harbor, Suffolk County  \n",
       "1232                   New Smyrna Beach, Volusia County  \n",
       "5623                                         Charleston  \n",
       "3068                                           Mazatlán  \n",
       "766                  North Topsail Beach, Onslow County  \n",
       "2773                  Mustang Island, near Port Aransas  \n",
       "2051                        Gulf Shores, Baldwin County  \n",
       "2641                                       Fingal Beach  \n",
       "5672                                        Downs River  \n",
       "4058                                     Astwood's Cove  \n",
       "4522                                       San Vincenzo  \n",
       "706                                         Cape Nelson  \n",
       "609                               South Narrabeen Beach  \n",
       "3865  North of main swimming area in Waterman's Bay ...  \n",
       "969                                          Boca Chica  \n",
       "5131  A shark was caught, its head severed from body...  \n",
       "2491                       Santa Rosa Shallows, Cozumel  \n",
       "2418  Bill Baggs Cape Florida State Recreation Area,...  \n",
       "3480                        Jensen Beach, Martin County  \n",
       "4400                                 Maile Beach, O'ahu  \n",
       "2969                                          Langebaan  \n",
       "3032                                         Walvis Bay  \n",
       "367                                     Hallidays Point  \n",
       "415                        Ocean Isle, Brunswick County  "
      ]
     },
     "execution_count": 299,
     "metadata": {},
     "output_type": "execute_result"
    }
   ],
   "source": [
    "data2.sample (50)"
   ]
  },
  {
   "cell_type": "markdown",
   "metadata": {},
   "source": [
    "Primero nos quedaremos con las columnas que nos pueden interesar y luego buscaremos los valores Florida y Reunión en ellos, como dije antes, cambiaremos la hipótesis a mitad del camino, primero a Seychelles y luego a Hawaii."
   ]
  },
  {
   "cell_type": "code",
   "execution_count": 17,
   "metadata": {},
   "outputs": [],
   "source": [
    "data2= data [[\"Country\", \"Area\", \"Location\"]] #nos quedamos solo con las que nos pueden interesar"
   ]
  },
  {
   "cell_type": "code",
   "execution_count": 293,
   "metadata": {},
   "outputs": [
    {
     "data": {
      "text/html": [
       "<div>\n",
       "<style scoped>\n",
       "    .dataframe tbody tr th:only-of-type {\n",
       "        vertical-align: middle;\n",
       "    }\n",
       "\n",
       "    .dataframe tbody tr th {\n",
       "        vertical-align: top;\n",
       "    }\n",
       "\n",
       "    .dataframe thead th {\n",
       "        text-align: right;\n",
       "    }\n",
       "</style>\n",
       "<table border=\"1\" class=\"dataframe\">\n",
       "  <thead>\n",
       "    <tr style=\"text-align: right;\">\n",
       "      <th></th>\n",
       "      <th>Country</th>\n",
       "      <th>Area</th>\n",
       "      <th>Location</th>\n",
       "    </tr>\n",
       "  </thead>\n",
       "  <tbody>\n",
       "    <tr>\n",
       "      <th>0</th>\n",
       "      <td>USA</td>\n",
       "      <td>California</td>\n",
       "      <td>Oceanside, San Diego County</td>\n",
       "    </tr>\n",
       "    <tr>\n",
       "      <th>1</th>\n",
       "      <td>USA</td>\n",
       "      <td>Georgia</td>\n",
       "      <td>St. Simon Island, Glynn County</td>\n",
       "    </tr>\n",
       "    <tr>\n",
       "      <th>2</th>\n",
       "      <td>USA</td>\n",
       "      <td>Hawaii</td>\n",
       "      <td>Habush, Oahu</td>\n",
       "    </tr>\n",
       "    <tr>\n",
       "      <th>3</th>\n",
       "      <td>AUSTRALIA</td>\n",
       "      <td>New South Wales</td>\n",
       "      <td>Arrawarra Headland</td>\n",
       "    </tr>\n",
       "    <tr>\n",
       "      <th>4</th>\n",
       "      <td>MEXICO</td>\n",
       "      <td>Colima</td>\n",
       "      <td>La Ticla</td>\n",
       "    </tr>\n",
       "  </tbody>\n",
       "</table>\n",
       "</div>"
      ],
      "text/plain": [
       "     Country             Area                        Location\n",
       "0        USA       California     Oceanside, San Diego County\n",
       "1        USA          Georgia  St. Simon Island, Glynn County\n",
       "2        USA           Hawaii                    Habush, Oahu\n",
       "3  AUSTRALIA  New South Wales              Arrawarra Headland\n",
       "4     MEXICO           Colima                        La Ticla"
      ]
     },
     "execution_count": 293,
     "metadata": {},
     "output_type": "execute_result"
    }
   ],
   "source": [
    "data2.head ()"
   ]
  },
  {
   "cell_type": "code",
   "execution_count": 18,
   "metadata": {},
   "outputs": [
    {
     "name": "stderr",
     "output_type": "stream",
     "text": [
      "<ipython-input-18-3b1863f54051>:1: SettingWithCopyWarning: \n",
      "A value is trying to be set on a copy of a slice from a DataFrame\n",
      "\n",
      "See the caveats in the documentation: https://pandas.pydata.org/pandas-docs/stable/user_guide/indexing.html#returning-a-view-versus-a-copy\n",
      "  data2.dropna (how=\"all\", inplace=True)\n"
     ]
    }
   ],
   "source": [
    "data2.dropna (how=\"all\", inplace=True)"
   ]
  },
  {
   "cell_type": "code",
   "execution_count": 266,
   "metadata": {},
   "outputs": [
    {
     "data": {
      "text/plain": [
       "(6273, 3)"
      ]
     },
     "execution_count": 266,
     "metadata": {},
     "output_type": "execute_result"
    }
   ],
   "source": [
    "data2.shape"
   ]
  },
  {
   "cell_type": "code",
   "execution_count": 275,
   "metadata": {},
   "outputs": [
    {
     "data": {
      "text/plain": [
       "array(['California', 'Georgia', 'Hawaii', 'New South Wales', 'Colima',\n",
       "       'Pernambuco', 'Florida', 'Queensland', 'South Carolina',\n",
       "       'Cornwall', 'Westerm Australia', 'Eastern Cape Province',\n",
       "       'Hua Hin', 'Cocos Island', 'Western Australia',\n",
       "       'Alifu Alifu Atoll', 'Western Cape Province', 'New Providence',\n",
       "       'Alagoas', nan, 'Victoria', 'KwaZulu-Natal',\n",
       "       'Boi Island, Victoria', 'Galapagos Islands', 'Fernando de Noronha',\n",
       "       'Sepang', 'Holquin Province', 'Pamplemousses ', 'South Australia',\n",
       "       'North Island', 'New York', 'Canary Islands', ' Upolu Island',\n",
       "       'Shizuoka Prefecture', 'Texas', 'Castellón', 'Massachusetts',\n",
       "       'Red Sea Protectorate', 'New Providence District',\n",
       "       '40 miles off Grand Bahama Island', 'Ascension Island',\n",
       "       'New Jersey', 'Majorca', 'Washington', 'Tabasco', 'Anjouan',\n",
       "       'Ibiza Island', 'Marquesas', 'South Devon', 'New Providence ',\n",
       "       'Sharjah, ', 'Baja California Sur', 'Saint-Leu', 'South Island',\n",
       "       'Luzon Island', 'Great Exuma', 'Saint-Andre', 'Bimini', 'Bali',\n",
       "       'Tuamotos', 'Oregon', 'North Province', 'New Providence Island',\n",
       "       'Alicante Province', 'Hong Kong', 'Kochi Prefecture', 'Tasmania',\n",
       "       'Abaco Islands', 'Alabama', 'North Carolina', 'Isla Provedencia',\n",
       "       'Suez', 'Grand Terre', 'Boa Vista Island', 'Vanua Levu',\n",
       "       'Santa Catarina State', 'South Province', 'Altagracia Province',\n",
       "       'Grand Cayman', 'Balneário Camboriú', 'Fujairah Emirate',\n",
       "       'Grand Canary Island', 'Inhambane Province', 'Phuket', 'Alicante',\n",
       "       'Guanacaste', 'Bora Bora', 'Grand Bahama Island', 'Le Port',\n",
       "       'Rangiroa', 'Saint-Gilles-les-Bains', 'Sardinia', 'Sinaloa',\n",
       "       'Central Tuamotu', 'd\\x92Étang-Salé', 'Granada',\n",
       "       'Cargados Carajos Shoals (St. Brandon)', 'Moorea', 'Catalonia',\n",
       "       'Maryland', 'Louisiana', 'West End', 'Delaware',\n",
       "       'Atsumi peninsula', 'Palmyra Atoll', 'Wallis and Futuna',\n",
       "       'Baie de Sainte-Marie', 'Society Islands', 'Trinidad',\n",
       "       'Okinawa Prefecture', '740 miles SE of Tarawa Atoll',\n",
       "       'Southern District', 'Bay of Biscay', 'Quintana Roo',\n",
       "       'Exuma Islands', 'Saint-Paul', 'Taitung ', 'Kingston Parish',\n",
       "       'Santa Cruz Island', 'Saint-Gilles', 'Tuamotus', 'Eleuthera',\n",
       "       'St. Catherine', 'Palawan', 'Mercury Islands', 'Delta', \"Vava'u\",\n",
       "       'Inner Hebrides', 'Saint Leu', 'Trois-Bassins', 'British Colombia',\n",
       "       'Guerrero', 'Saint-Benoit', 'Tabuk Province',\n",
       "       'Antofagasta Province', \"St John's\", 'Santa Elena',\n",
       "       'East New Britain', 'Bois-Blanc ', 'Moray', 'Puerto Rico',\n",
       "       'Samaná Province', 'Coast Province', 'Central Province',\n",
       "       'Primorsky Krai',\n",
       "       'Peter the Great Bay, Khasan, Primorsky Krai (Far East)',\n",
       "       'Telyakovsky Bay, Khasan,  Primorsky Krai (Far East)', 'Praslin',\n",
       "       'Sucre', 'Middle Caicos', 'Caicos Bank', 'San Andrés archipelago',\n",
       "       'Kedah', 'Umm al Qaywayan Province', 'Vitu Levu',\n",
       "       'South Sinai Peninsula', ' Loyalty Islands', 'Saint Gilles ',\n",
       "       'Maine', 'Virginia', \"Ha'api \", 'Western Province',\n",
       "       'Jeju Province', 'Binh Dinh Province', 'Antsiranana Province',\n",
       "       'Sinai Peninsula', 'Off Vanua Levu', 'Merizo', 'Rio Grande Do Sul',\n",
       "       'Dubai', 'Torres Strait', 'Eastern Province',\n",
       "       'Eastern Cape  Province', 'Maputo Province', 'Bocas', 'Fife',\n",
       "       'Devon', 'Makira-Ulawa Province', 'Mombasa', 'Catalunya',\n",
       "       'St. Johns Reef', 'Off Green Island', 'North Region',\n",
       "       'Batangas province', 'Strait of Malacca', 'Guantanamo Province',\n",
       "       'Maranhão', 'Red Sea', 'Batanes Provine', 'Luzon',\n",
       "       'Northern Territory', ' Split-Dalmatia Count,', 'North Devon',\n",
       "       'US Virgin Islands', 'San Carlos', 'Cabo San Lucas', 'Sussex',\n",
       "       'Bahia', 'Easter Ross', 'Guerro', 'Yasawa Islands',\n",
       "       'Northern Bahamas', 'Tokyo Bay', 'Baja California', 'Green Bay',\n",
       "       'Loyalty Islands', 'Marovo Lagoon',\n",
       "       'Territory of Cocos (Keeling) Islands', 'Oslo Fjord', 'Kent',\n",
       "       'Bird Island', 'Providenciales', 'Bimini Islands',\n",
       "       'Muhafazat Hadramawt', 'Cook islans', 'Surigao del Norte',\n",
       "       'Between Somalia & Yemen', 'Ambergris Caye', 'Saint-Pierre',\n",
       "       'Kentucky', 'Andros Islands', 'Guam', 'Western Area',\n",
       "       '300 miles from Antigua', '800 miles from land',\n",
       "       '600 nm west of the Canary Islands', 'Simpson Bay', 'East Wall',\n",
       "       'Inner Islands', 'Shanghai', 'Malampa Province',\n",
       "       \"South Ch'ungch'ong Province\", 'Bay Islands', 'New Mexico',\n",
       "       'Santa Isabel Province', 'Santiago de Cuba Province',\n",
       "       'Camaguey Province', 'Conservatória District', 'South Carolina ',\n",
       "       'Kuril Islands in the Pacific', 'Wakayama Prefecture',\n",
       "       \"Nuku'alofa\", 'Saint-Benoît',\n",
       "       'South Island, near Karitane north of Dunedin', 'Rocha',\n",
       "       'Northlands', 'Anzoategui', 'Cook Islands', 'Tamil Nadu',\n",
       "       'Pearl Islands', 'Taveuni', 'Johnston Atoll', 'Baatan',\n",
       "       'Rio de Janeiro', 'Nueva Esparta', 'Southland',\n",
       "       'North Pacific coast', 'Caroline Islands', 'Cheshire',\n",
       "       'Louisiade Archipelago',\n",
       "       'KwaZulu-Natal between Port Edward and Port St Johns',\n",
       "       'Milne Bay Province', 'Cikobia Island (north of Vanua Levu)',\n",
       "       'Rayong Province', 'Zamboanga del Sur Province',\n",
       "       'Rio Grande de Norte',\n",
       "       'Off the western coast of peninsular Malaysia', 'New Brunswick',\n",
       "       'Miyako Island', 'Alaska', 'Minerva Reef', 'Madang Province',\n",
       "       'Worcestershire', 'Phang nga Province', 'Alinglaplap Atoll',\n",
       "       'Adriatic Sea', 'Ralik Chain', 'Grand Baie',\n",
       "       \"L' Etang Salé-les-Bains\", 'Southern Japan', 'Cap Vert Peninsula',\n",
       "       'Marches region', 'Berry Islands', 'Transvaal', 'Gaza',\n",
       "       \"Grand'Anse\", 'Beaufonds', 'Miyako', \"L'Etang-Sale\",\n",
       "       'Chatham Islands ', 'South Sinai, Gulf of Aqaba', 'Cat Cay',\n",
       "       'Missouri', '12 miles off the north coast', 'Saint-Paul ',\n",
       "       'Chatham Islands, east of New  Zealand', 'Saint-Denis',\n",
       "       'Vava\\x92u', 'Mississippi', 'Clearwater Bay', 'New Territories',\n",
       "       'Aichi Prefecture', 'Tafea Province', 'Kagoshima Prefecture',\n",
       "       'Saint-Joseph', 'Banaadir Region', 'La Libertad', 'Costa Blanca',\n",
       "       'Walkers Cay', 'On the Kowloon penisula, south of Sai Kung',\n",
       "       'Ehime Prefecture', 'Tongapatu Group', 'West Africa',\n",
       "       'Wakaya Island', 'North Carolina ', 'Mexico / Caribbean Sea',\n",
       "       'Antarctic Ocean', 'La Saline-les-Bains', 'Sea of Japan',\n",
       "       'Tavenui', 'Ligurian Sea', \"L'Etang-Salé\", 'Kowloon Peninsula',\n",
       "       'Port Shelter', 'Laucala Island', 'Sainte-Marie',\n",
       "       'Great Exuma Island', 'Sainte-Suzanne', 'Tuscany',\n",
       "       'Tyrrhenian Sea', 'New Ireland', 'Valpariso Province',\n",
       "       'Viscayan Sea', 'Manfredonia ', 'Tokyo Prefecture', 'Saint-Louis',\n",
       "       'Mindoro', 'Between DR and Puerto Rico',\n",
       "       'Between Honiara & Isabel Island', 'Florida Straits',\n",
       "       'Gulf of Lyons', 'Cádiz', 'Sicily', 'Andikira Fokithes',\n",
       "       'Central Philippines', 'Rhode Island', 'Northwest Italy',\n",
       "       'English Channel', 'North & South Carolina', 'Kumamoto Prefecture',\n",
       "       'Biserta', 'Saint-Philippe', 'Chungnam', 'Eronogo Region',\n",
       "       'Coquimbo', 'Pagasitikos Gulf', \"St. Mary's Parish\",\n",
       "       'Romblon Province', 'Lamu Archipelago', 'Los Vilos',\n",
       "       'Island of Kos', \"Ha'api\", 'Madeira Islands',\n",
       "       'Ho Ha Wan Marine Park', 'Southern Thailand', 'Golfo de Venezia',\n",
       "       'Ralik Archipelago', 'South China Sea 200 miles from Hong Kong',\n",
       "       'Reggio Calabria Province', 'Mirs Bay ', 'Genoa Province',\n",
       "       'Ganges-Brahmaputra delta', ' Split-Dalmatia County', 'Florida ',\n",
       "       'Primorje-Gorski Kotar County ', 'Aulong Island',\n",
       "       'Western Caroline Islands', 'Upolu Island', 'Antibes',\n",
       "       'Illeginni Atoll', 'Istria County', 'Between Beira & Maputo',\n",
       "       'Khuzestan Province', 'Inhambe Province', 'Namonuito Atoll',\n",
       "       'Eastern Caroline Islands',\n",
       "       'Western Caroline Islands (North Pacific Ocean)', 'Caribbean Sea',\n",
       "       'St. Andrew Parish', '200 nm southeast of Manila', 'Limpopo River',\n",
       "       'New Ireland Province', 'Zadar County', 'Basrah', 'Clarendon',\n",
       "       'Moro Gulf', 'Johor', 'Magdalena Department', 'Mafia Island',\n",
       "       'Gulf Province', 'Morobe Province', 'Limón Province',\n",
       "       'Rombion Province', 'Veracruz', 'Brindisi Province',\n",
       "       'Kagawa Prefecture', 'Liguria', 'Hamilton', 'Out Islands',\n",
       "       'Mugla Province', 'Gibraltar', 'New Britain', 'Bay of Maputo',\n",
       "       'Duke of York Islands', 'Taranto province', 'Northern Taiwan',\n",
       "       'Admiralty Islands, Manus Province', 'North Sumatra',\n",
       "       \"250 miles southwest of O'ahu, Hawaii\", 'West coast', 'East Sepik',\n",
       "       'Near Bougainville (North Solomons)', 'East of the Gulf of Aqaba',\n",
       "       'Bougainville (North Solomons)', 'Victoria ', 'Okayama Prefecture',\n",
       "       'San Blas', 'Connecticut', 'Lau Group', 'Caribbean Coast',\n",
       "       'Vita Levu', 'San Blas Islands', 'Puntarenas Province',\n",
       "       'Lomaloma, Lau', 'Between Southampton & Canary Islands',\n",
       "       'South Coast, East New Britain', ' Lau Province', 'Ysabel Island',\n",
       "       'Santo Domingo', 'San Blas coast', 'Thessaly',\n",
       "       'Lomaiviti  Island Group', 'Rodrigues', 'Manus Island',\n",
       "       'Pinas Bay', 'Grand Turk Island', 'Off coast of West Africa',\n",
       "       'Sharon', 'Antalya Province', 'Northern District',\n",
       "       'New Ireland Province, Bismarck Archipelago', 'Cyclades',\n",
       "       'Viti Levu', 'Off the Coromandel Peninsula, North Island',\n",
       "       'Madang', 'Guadalcanal Province', '10ºS, 142ºE', 'Kwajalein Atoll',\n",
       "       'East Flores', 'Guerrrero', 'Western Luzon Island',\n",
       "       'Shefa Province', '165  miles from Bermuda',\n",
       "       '25 km off the coast of Iran & 483km from mouth of Persian Gulf',\n",
       "       'Venice Province', 'Sandaun Province', 'Anatolia',\n",
       "       'East New Britain Province', 'United Arab Emirates',\n",
       "       'Wake Island (EnenKio)', '19S, 178?E', 'Pennsylvania',\n",
       "       '9.35N 79.35W', 'Roncador Bank', 'Western District',\n",
       "       'Enroute from Suez to Aden (Yemen)',\n",
       "       '180 miles southeast of Okinawa', 'Eniwetok Atoll',\n",
       "       'Cap-Vert Peninsula', 'Delagoa Bay', 'In the English Channel ',\n",
       "       'Cook Strait', 'Unknown, treated at Wick, SCOTLAND',\n",
       "       'Corregidor Island', 'Paget', '33N, 68W', 'Casamance',\n",
       "       'Madang (WO)', 'Between Timor & Darwin, Australia',\n",
       "       'Pacific coast', 'St. Georges ', 'Eastern  Province',\n",
       "       'Northwest of Viti Levu', 'West New Britain Province',\n",
       "       'Rigo subdistrict', 'Masbate', '400 miles southeast of Sri Lanka',\n",
       "       'Lomaiviti Province', 'Kadavu', 'Leyte Island', 'Orissa',\n",
       "       'Hokkaido Prefecture', 'North Palawan', 'Queaon', 'Istria',\n",
       "       'PANAMA', 'In the Gulf Stream ', 'Mersin Province', 'Guyamas',\n",
       "       'Between England & South Africa', 'Mindanao',\n",
       "       ' Kikori River mouth', 'South Chungcheong Province',\n",
       "       'Ahirkapi coast', 'Tutuila Island', 'Primorje-Gorski Kotar County',\n",
       "       'Between Hawaii & Wake Island', 'Taipei Hsien',\n",
       "       'Ibaraki Prefecture', 'South Pacific Ocean', 'Canal Zone',\n",
       "       '1,000 miles east of Hawaii', 'Honiara', 'Yucatan Channel',\n",
       "       'Havana Province', 'Karun River',\n",
       "       'Abau Subdistrict,Central Province',\n",
       "       'New Britain, Bismarck Archipelago', 'Estuaire Province',\n",
       "       'Near Dakar, Cap Vert Peninsula',\n",
       "       'Near the Andaman & Nicobar Islands', 'Mozambique Channel',\n",
       "       'Tyrrenian Sea', 'Congreve Channel', 'St. Thomas Bay', 'Madeira',\n",
       "       'Between Comores & Madagascar', 'Corfu Island',\n",
       "       '1000 miles west of Hawaii', 'Izo Islands',\n",
       "       ' Primorje-Gorski Kotar County', 'Open sea', 'Aden',\n",
       "       'New Ireland, Bismarck Archipelago', '18S / 50E', 'Illinois',\n",
       "       'Isles del Rosario', 'Wake Island', 'Isle of Man',\n",
       "       'Nagasaki Prefecture', 'Liguaria', 'Slovenia', 'South shore ',\n",
       "       'Buenos Aires Province', '330 to 350 miles east of Wake Island',\n",
       "       'Nova Scotia', 'Gulf of Panama', 'Genoa  Province',\n",
       "       'Abau Sub District, Central Province', 'Teramo', 'Red Sea State',\n",
       "       'Curacao', 'Port Louis Province', 'Montserrado', 'Bay of Maputu',\n",
       "       'Sofala Province', 'Salerno', 'Salerno Province', 'Taranto',\n",
       "       'Naples Province', ' La Libertad', 'Sago Prefecture', 'Savona',\n",
       "       'Southern Province', 'Jakarta Harbour', 'Singapore Harbor',\n",
       "       'Calabria', 'Shatt-el-Arab River', 'Shatt-al-Arab River',\n",
       "       'Tamaulipas', 'Calvados Archipelago', 'Shat-Al-Arab River',\n",
       "       'Between Kwajalein Atoll & Johnston Island', 'Attica',\n",
       "       'Adana Province', 'Bandar Ma\\x92shur sea inlet', 'Saipan',\n",
       "       'Carpathian Sea', 'Kwajalein', 'Dar-es-Salaam ',\n",
       "       '\"Head of the Gulf\"', 'Ryukyu', ' North Carolina',\n",
       "       'In transit between Tinian and Leyte', 'Northern Java', 'Tel Aviv',\n",
       "       'Colon Province', '300 miles east of Luzon',\n",
       "       'Bernardino Strait near Gulf of Leyte',\n",
       "       'Off Samar Island in the Gulf of Leyte',\n",
       "       'Lake Nicaragua (fresh water)', 'Pacific Ocean',\n",
       "       'Near the Fiji Islands', '40 miles south of Naples ',\n",
       "       'Northwest of Papua New Guinea', 'Between Hawaii and U.S.A.',\n",
       "       'Off South American coast', 'Makora-Ulawa Province',\n",
       "       '04.05N-13.23W', 'Midway Atoll',\n",
       "       '300 miles east of St. Thomas (Virgin Islands)',\n",
       "       'West of Ceylon (Sri  Lanka)', 'East Java', 'Camiguin Island',\n",
       "       'Cay Sal Bank', '(Southwestern Pacific)', 'Panama City',\n",
       "       'Off Libya', 'North of Pernambuco, Brazil', 'Off coast of Ecuador',\n",
       "       'Trelawney Province', 'In Convoy OB 274', 'New Georgia',\n",
       "       'Panama Bay (Pacific Ocean)', 'Bwagaoia', 'Western Papuan Gulf',\n",
       "       'Torres Strait ', 'Carabobo', 'Ascension Bay', 'North China',\n",
       "       'Lower San Juan River', 'Nicoya Peninsula', 'Basrah City',\n",
       "       'West Bengal', 'Queensland ', 'Argyllshire', 'Arran', 'Argyll',\n",
       "       'Fishing Grounds', 'Newfoundland', 'Isle of Wight',\n",
       "       'Makira-Uluwa Province', 'Northern (Oro) Province', 'Herzliyah',\n",
       "       'Elqui Province', 'Istanbul', 'St Michael Parish',\n",
       "       'Barlavento Islands', 'Viti Levu Island', 'Bay of Fundy', 'Manila',\n",
       "       'French Southern Territories', 'Niua ', 'Black River',\n",
       "       'Phoenix Islands', 'Cienfuegos Province', 'Valencia',\n",
       "       'Santiago Island', 'Near Puntarenas', 'Porto Seguro',\n",
       "       'Salinas Bay', 'Golfo di Genova in the Ligurian Sea',\n",
       "       'Sants-Montjic', 'South of the Equator ', 'Bay of Monaco',\n",
       "       'Valencia ', 'Vancouver',\n",
       "       '2 to 3 miles off Taboguilla Island, Pacific Ocean', 'Dorset',\n",
       "       '150 miles offshore', 'Galica', 'Demerara County', 'Vera Cruz',\n",
       "       ' Manila Bay', 'Lucy', 'East Yorkshire', 'Westmoreland Parish',\n",
       "       'Cavite Province, Luzon', 'Cape Haitien', 'Leyte', 'Halifax',\n",
       "       'Turtle Bogue', '60 miles north of San Domingo in the West Indies',\n",
       "       'Colon', 'Off Ireland', 'Mediterranean Sea', 'Gran Canaria',\n",
       "       'Apolima Strait', 'Essequibo', 'Lagos ', 'Trieste', '5aint-Denis',\n",
       "       'Viti Levu group', 'Balearics', 'Málaga ', 'Chatham Islands',\n",
       "       'Georges Bank', 'Zambesi River', 'Colón Province',\n",
       "       '30 nm from Singapore', 'Andalucia', 'Sfax',\n",
       "       'South Atlantic Ocean', 'Galicia', 'Gulf of Suez', 'Java',\n",
       "       'Tiburon Peninsula', 'Oaxaca', 'Harare Province',\n",
       "       'Khánh Hòa Province', 'Maluku Province', 'Suez Canal',\n",
       "       ' Nusa Tenggara', 'Between Noumea & Sydney',\n",
       "       'Villa Clara Province', 'Ancona Province', 'Quezon',\n",
       "       'Rio San Juan', 'Southern Cyprus', 'Syracuse', 'Western Viscayas',\n",
       "       'Mindoro Occidental', 'Negros ', 'Imperia Province', 'Muala',\n",
       "       'East coast', 'Ratak ', 'Socotra Islands', 'Off Cape Haitien',\n",
       "       'Moluccas', 'Bocas del Toro', 'Provence', 'Bay of Campeche',\n",
       "       'Rangoon', 'Bay of Bengal', 'Bayelsa State', 'South Island?',\n",
       "       'Norfolk Island', 'Brittany', 'Line Islands', 'Woodlark Islands',\n",
       "       'Munxar Reef', 'Northern Peloponnese', 'Between Perth & Colombo',\n",
       "       'Gujarat', 'Lukovo', 'Cortés', 'Gulf of California',\n",
       "       'Somewhere between Philadelphia and Hiogo, Japan', ' New Jersey',\n",
       "       \"Côte d'Azur  \", 'Maldonado coast', 'Western Banks',\n",
       "       'Andaman Islands', 'Off the coast of West Africa',\n",
       "       'Misamis Oriental', 'Strait of Messina', 'Hoogly River',\n",
       "       'Cyclades archipelago', 'Mount Lebanon',\n",
       "       'Between Hastings & Fairlight, Sussex', 'Veracruz ',\n",
       "       'Gilbert Islands', 'Lomaiviti Provine',\n",
       "       'Off the coast of South America', '22ºN, 88ºE',\n",
       "       'Matanzas Province (north coast)', 'Alpes Maritime', 'Edinburgh',\n",
       "       'Eastern Catalona', '300 miles east of Mauritius',\n",
       "       'Foveaux Strait', 'Sumatra', 'Conakry Region', 'Corfu', 'Malaga',\n",
       "       'Bonin Islands', 'Fernando Po Island', 'Mangaia Island',\n",
       "       'New York ', 'Corfu ', 'Between Australia & USA', 'Tongatapu',\n",
       "       'Norfolk', 'Island of St. Thomas', 'Cumberland', 'Sanma Province',\n",
       "       \"35º39 : 165º8'\", 'CUBA', 'Western Area ', 'Paraiba', 'Cape Coast',\n",
       "       'Rivers State', 'Maharashtra', 'St. Anne', 'St Helena',\n",
       "       \"Côte d'Azur \", 'Skagerrak arm of the North Sea',\n",
       "       'Las Perlas archipelago', 'Bardestrand', 'Southwest coast',\n",
       "       'Kerala', 'Nice & Marseilles', 'Magarita or Cubagua Islands',\n",
       "       'Ionian Sea', 'Piraeus', 'Off Thessaly', 'Bocas del Toro Province',\n",
       "       'Rocha ', 'Gulf of Tadjoura', 'Cyrenaica', 'Northern Province',\n",
       "       'Los Roques  Islands', 'Dodecanese Islands', 'Malaita Province',\n",
       "       'South Korea', 'Milne Bay  Province', 'Island of Volos',\n",
       "       'Amirante Islands', 'Kadavu Island Group', 'Toamasina Province',\n",
       "       'Riau Province', 'Bikini Atoll',\n",
       "       'Between New Ireland & New Britain', 'Ba Ria-Vung Tau  Province',\n",
       "       'Moala Island'], dtype=object)"
      ]
     },
     "execution_count": 275,
     "metadata": {},
     "output_type": "execute_result"
    }
   ],
   "source": [
    "data2.Area.unique ()"
   ]
  },
  {
   "cell_type": "code",
   "execution_count": 280,
   "metadata": {},
   "outputs": [
    {
     "data": {
      "text/plain": [
       "False"
      ]
     },
     "execution_count": 280,
     "metadata": {},
     "output_type": "execute_result"
    }
   ],
   "source": [
    "\"reunion\" in data2[\"Area\"].unique () #y a buscar"
   ]
  },
  {
   "cell_type": "code",
   "execution_count": 286,
   "metadata": {},
   "outputs": [
    {
     "data": {
      "text/plain": [
       "False"
      ]
     },
     "execution_count": 286,
     "metadata": {},
     "output_type": "execute_result"
    }
   ],
   "source": [
    "\"reunión\" in data2.Country.unique ()"
   ]
  },
  {
   "cell_type": "code",
   "execution_count": 288,
   "metadata": {},
   "outputs": [
    {
     "data": {
      "text/plain": [
       "False"
      ]
     },
     "execution_count": 288,
     "metadata": {},
     "output_type": "execute_result"
    }
   ],
   "source": [
    "\"reunión\" in data2.Location.unique () #vamos a cambiar la hipótesis a Seychelles, que reunión no aparece..."
   ]
  },
  {
   "cell_type": "code",
   "execution_count": 291,
   "metadata": {},
   "outputs": [
    {
     "data": {
      "text/plain": [
       "False"
      ]
     },
     "execution_count": 291,
     "metadata": {},
     "output_type": "execute_result"
    }
   ],
   "source": [
    "\"Seychelles\" in data2[\"Location\"].unique ()"
   ]
  },
  {
   "cell_type": "code",
   "execution_count": 307,
   "metadata": {},
   "outputs": [
    {
     "data": {
      "text/plain": [
       "False"
      ]
     },
     "execution_count": 307,
     "metadata": {},
     "output_type": "execute_result"
    }
   ],
   "source": [
    "\"Seychelles\" in data2[\"Country\"].unique ()# amplio al pais, que parece que solo aparece en country"
   ]
  },
  {
   "cell_type": "code",
   "execution_count": 308,
   "metadata": {},
   "outputs": [
    {
     "data": {
      "text/plain": [
       "True"
      ]
     },
     "execution_count": 308,
     "metadata": {},
     "output_type": "execute_result"
    }
   ],
   "source": [
    "\"Florida\" in data2.Area.unique() "
   ]
  },
  {
   "cell_type": "code",
   "execution_count": 297,
   "metadata": {},
   "outputs": [
    {
     "data": {
      "text/plain": [
       "False"
      ]
     },
     "execution_count": 297,
     "metadata": {},
     "output_type": "execute_result"
    }
   ],
   "source": [
    "\"Florida\" in data2.Location.unique() #location nos va a sobrar"
   ]
  },
  {
   "cell_type": "code",
   "execution_count": 317,
   "metadata": {},
   "outputs": [],
   "source": [
    "data2a=data2.drop ([\"Location\"], axis=1) #5º metodo "
   ]
  },
  {
   "cell_type": "code",
   "execution_count": 304,
   "metadata": {},
   "outputs": [
    {
     "data": {
      "text/html": [
       "<div>\n",
       "<style scoped>\n",
       "    .dataframe tbody tr th:only-of-type {\n",
       "        vertical-align: middle;\n",
       "    }\n",
       "\n",
       "    .dataframe tbody tr th {\n",
       "        vertical-align: top;\n",
       "    }\n",
       "\n",
       "    .dataframe thead th {\n",
       "        text-align: right;\n",
       "    }\n",
       "</style>\n",
       "<table border=\"1\" class=\"dataframe\">\n",
       "  <thead>\n",
       "    <tr style=\"text-align: right;\">\n",
       "      <th></th>\n",
       "      <th>Country</th>\n",
       "      <th>Area</th>\n",
       "    </tr>\n",
       "  </thead>\n",
       "  <tbody>\n",
       "    <tr>\n",
       "      <th>0</th>\n",
       "      <td>USA</td>\n",
       "      <td>California</td>\n",
       "    </tr>\n",
       "    <tr>\n",
       "      <th>1</th>\n",
       "      <td>USA</td>\n",
       "      <td>Georgia</td>\n",
       "    </tr>\n",
       "    <tr>\n",
       "      <th>2</th>\n",
       "      <td>USA</td>\n",
       "      <td>Hawaii</td>\n",
       "    </tr>\n",
       "    <tr>\n",
       "      <th>3</th>\n",
       "      <td>AUSTRALIA</td>\n",
       "      <td>New South Wales</td>\n",
       "    </tr>\n",
       "    <tr>\n",
       "      <th>4</th>\n",
       "      <td>MEXICO</td>\n",
       "      <td>Colima</td>\n",
       "    </tr>\n",
       "    <tr>\n",
       "      <th>...</th>\n",
       "      <td>...</td>\n",
       "      <td>...</td>\n",
       "    </tr>\n",
       "    <tr>\n",
       "      <th>6297</th>\n",
       "      <td>AUSTRALIA</td>\n",
       "      <td>Western Australia</td>\n",
       "    </tr>\n",
       "    <tr>\n",
       "      <th>6298</th>\n",
       "      <td>AUSTRALIA</td>\n",
       "      <td>Western Australia</td>\n",
       "    </tr>\n",
       "    <tr>\n",
       "      <th>6299</th>\n",
       "      <td>USA</td>\n",
       "      <td>North Carolina</td>\n",
       "    </tr>\n",
       "    <tr>\n",
       "      <th>6300</th>\n",
       "      <td>PANAMA</td>\n",
       "      <td>NaN</td>\n",
       "    </tr>\n",
       "    <tr>\n",
       "      <th>6301</th>\n",
       "      <td>CEYLON (SRI LANKA)</td>\n",
       "      <td>Eastern Province</td>\n",
       "    </tr>\n",
       "  </tbody>\n",
       "</table>\n",
       "<p>6273 rows × 2 columns</p>\n",
       "</div>"
      ],
      "text/plain": [
       "                 Country               Area\n",
       "0                    USA         California\n",
       "1                    USA            Georgia\n",
       "2                    USA             Hawaii\n",
       "3              AUSTRALIA    New South Wales\n",
       "4                 MEXICO             Colima\n",
       "...                  ...                ...\n",
       "6297           AUSTRALIA  Western Australia\n",
       "6298           AUSTRALIA  Western Australia\n",
       "6299                 USA     North Carolina\n",
       "6300              PANAMA                NaN\n",
       "6301  CEYLON (SRI LANKA)   Eastern Province\n",
       "\n",
       "[6273 rows x 2 columns]"
      ]
     },
     "execution_count": 304,
     "metadata": {},
     "output_type": "execute_result"
    }
   ],
   "source": [
    "data2a"
   ]
  },
  {
   "cell_type": "code",
   "execution_count": 318,
   "metadata": {},
   "outputs": [],
   "source": [
    "#florida en area y seychelles en country, usamos el loc para filtrar\n",
    "\n",
    "data2a = data2a.loc[(data2a[\"Area\"] == \"Florida\") | (data2a[\"Country\"] == \"Seychelles\")] "
   ]
  },
  {
   "cell_type": "code",
   "execution_count": 331,
   "metadata": {},
   "outputs": [
    {
     "data": {
      "text/plain": [
       "USA           1037\n",
       "Seychelles       1\n",
       "Name: Country, dtype: int64"
      ]
     },
     "execution_count": 331,
     "metadata": {},
     "output_type": "execute_result"
    }
   ],
   "source": [
    "data2a.Country.value_counts() # esto tenía sentido pensando que en seychelles habia leido que tenia tiburones"
   ]
  },
  {
   "cell_type": "code",
   "execution_count": 369,
   "metadata": {},
   "outputs": [
    {
     "data": {
      "text/plain": [
       "True"
      ]
     },
     "execution_count": 369,
     "metadata": {},
     "output_type": "execute_result"
    }
   ],
   "source": [
    "# cambio la hipótesis a hawai, vamos a buscarlo\n",
    "\"Hawaii\" in data2.Area.unique()"
   ]
  },
  {
   "cell_type": "code",
   "execution_count": 352,
   "metadata": {},
   "outputs": [
    {
     "data": {
      "text/plain": [
       "True"
      ]
     },
     "execution_count": 352,
     "metadata": {},
     "output_type": "execute_result"
    }
   ],
   "source": [
    "\"Hawaii\" in data2.Location.unique()"
   ]
  },
  {
   "cell_type": "code",
   "execution_count": 353,
   "metadata": {},
   "outputs": [
    {
     "data": {
      "text/plain": [
       "False"
      ]
     },
     "execution_count": 353,
     "metadata": {},
     "output_type": "execute_result"
    }
   ],
   "source": [
    "\"Hawaii\" in data2.Country.unique()"
   ]
  },
  {
   "cell_type": "code",
   "execution_count": 350,
   "metadata": {},
   "outputs": [
    {
     "data": {
      "text/plain": [
       "New Smyrna Beach, Volusia County          163\n",
       "Daytona Beach, Volusia County              30\n",
       "Ponce Inlet, Volusia County                20\n",
       "Melbourne Beach, Brevard County            18\n",
       "Myrtle Beach, Horry County                 17\n",
       "                                         ... \n",
       "Smelting Works Bay near Hobart              1\n",
       "Noyes Beach                                 1\n",
       "Lavalette, Ocean County                     1\n",
       "St. Kilda Beach                             1\n",
       "Reeds Bay, Brigantine, Atlantic County      1\n",
       "Name: Location, Length: 4108, dtype: int64"
      ]
     },
     "execution_count": 350,
     "metadata": {},
     "output_type": "execute_result"
    }
   ],
   "source": [
    "data2.Location.value_counts()"
   ]
  },
  {
   "cell_type": "code",
   "execution_count": 351,
   "metadata": {},
   "outputs": [
    {
     "data": {
      "text/plain": [
       "Florida                               1037\n",
       "New South Wales                        486\n",
       "Queensland                             311\n",
       "Hawaii                                 298\n",
       "California                             290\n",
       "                                      ... \n",
       "Cyclades archipelago                     1\n",
       "Grand Baie                               1\n",
       "Grand Cayman                             1\n",
       "Near the Andaman & Nicobar Islands       1\n",
       "Naples Province                          1\n",
       "Name: Area, Length: 825, dtype: int64"
      ]
     },
     "execution_count": 351,
     "metadata": {},
     "output_type": "execute_result"
    }
   ],
   "source": [
    "data2.Area.value_counts()"
   ]
  },
  {
   "cell_type": "code",
   "execution_count": 373,
   "metadata": {},
   "outputs": [],
   "source": [
    "data2h = data2.loc[(data2[\"Area\"] == \"Florida\") | (data2[\"Area\"] == \"Hawaii\")] #con el loc nos quedamos solo con las que nos interesan"
   ]
  },
  {
   "cell_type": "code",
   "execution_count": 374,
   "metadata": {},
   "outputs": [
    {
     "data": {
      "text/html": [
       "<div>\n",
       "<style scoped>\n",
       "    .dataframe tbody tr th:only-of-type {\n",
       "        vertical-align: middle;\n",
       "    }\n",
       "\n",
       "    .dataframe tbody tr th {\n",
       "        vertical-align: top;\n",
       "    }\n",
       "\n",
       "    .dataframe thead th {\n",
       "        text-align: right;\n",
       "    }\n",
       "</style>\n",
       "<table border=\"1\" class=\"dataframe\">\n",
       "  <thead>\n",
       "    <tr style=\"text-align: right;\">\n",
       "      <th></th>\n",
       "      <th>Country</th>\n",
       "      <th>Area</th>\n",
       "      <th>Location</th>\n",
       "    </tr>\n",
       "  </thead>\n",
       "  <tbody>\n",
       "    <tr>\n",
       "      <th>2</th>\n",
       "      <td>USA</td>\n",
       "      <td>Hawaii</td>\n",
       "      <td>Habush, Oahu</td>\n",
       "    </tr>\n",
       "    <tr>\n",
       "      <th>7</th>\n",
       "      <td>USA</td>\n",
       "      <td>Florida</td>\n",
       "      <td>Lighhouse Point Park, Ponce Inlet, Volusia County</td>\n",
       "    </tr>\n",
       "    <tr>\n",
       "      <th>8</th>\n",
       "      <td>USA</td>\n",
       "      <td>Florida</td>\n",
       "      <td>Cocoa Beach, Brevard  County</td>\n",
       "    </tr>\n",
       "    <tr>\n",
       "      <th>9</th>\n",
       "      <td>USA</td>\n",
       "      <td>Florida</td>\n",
       "      <td>Daytona Beach, Volusia County</td>\n",
       "    </tr>\n",
       "    <tr>\n",
       "      <th>25</th>\n",
       "      <td>USA</td>\n",
       "      <td>Hawaii</td>\n",
       "      <td>Shipwrecks Beach, Keoneloa Bay, Kauai</td>\n",
       "    </tr>\n",
       "    <tr>\n",
       "      <th>...</th>\n",
       "      <td>...</td>\n",
       "      <td>...</td>\n",
       "      <td>...</td>\n",
       "    </tr>\n",
       "    <tr>\n",
       "      <th>6232</th>\n",
       "      <td>USA</td>\n",
       "      <td>Hawaii</td>\n",
       "      <td>Portlock, Oahu</td>\n",
       "    </tr>\n",
       "    <tr>\n",
       "      <th>6233</th>\n",
       "      <td>USA</td>\n",
       "      <td>Florida</td>\n",
       "      <td>Mosquito Inlet (Ponce Inlet), Volusia County</td>\n",
       "    </tr>\n",
       "    <tr>\n",
       "      <th>6249</th>\n",
       "      <td>USA</td>\n",
       "      <td>Florida</td>\n",
       "      <td>Palm Beach, Palm Beach County</td>\n",
       "    </tr>\n",
       "    <tr>\n",
       "      <th>6283</th>\n",
       "      <td>USA</td>\n",
       "      <td>Florida</td>\n",
       "      <td>Gadsden Point, Tampa Bay</td>\n",
       "    </tr>\n",
       "    <tr>\n",
       "      <th>6292</th>\n",
       "      <td>USA</td>\n",
       "      <td>Hawaii</td>\n",
       "      <td>Puna</td>\n",
       "    </tr>\n",
       "  </tbody>\n",
       "</table>\n",
       "<p>1335 rows × 3 columns</p>\n",
       "</div>"
      ],
      "text/plain": [
       "     Country     Area                                           Location\n",
       "2        USA   Hawaii                                       Habush, Oahu\n",
       "7        USA  Florida  Lighhouse Point Park, Ponce Inlet, Volusia County\n",
       "8        USA  Florida                       Cocoa Beach, Brevard  County\n",
       "9        USA  Florida                      Daytona Beach, Volusia County\n",
       "25       USA   Hawaii             Shipwrecks Beach, Keoneloa Bay, Kauai\n",
       "...      ...      ...                                                ...\n",
       "6232     USA   Hawaii                                     Portlock, Oahu\n",
       "6233     USA  Florida       Mosquito Inlet (Ponce Inlet), Volusia County\n",
       "6249     USA  Florida                      Palm Beach, Palm Beach County\n",
       "6283     USA  Florida                           Gadsden Point, Tampa Bay\n",
       "6292     USA   Hawaii                                               Puna\n",
       "\n",
       "[1335 rows x 3 columns]"
      ]
     },
     "execution_count": 374,
     "metadata": {},
     "output_type": "execute_result"
    }
   ],
   "source": [
    "data2h"
   ]
  },
  {
   "cell_type": "code",
   "execution_count": 375,
   "metadata": {},
   "outputs": [
    {
     "data": {
      "text/plain": [
       "Florida    1037\n",
       "Hawaii      298\n",
       "Name: Area, dtype: int64"
      ]
     },
     "execution_count": 375,
     "metadata": {},
     "output_type": "execute_result"
    }
   ],
   "source": [
    "data2h.Area.value_counts ()"
   ]
  },
  {
   "cell_type": "markdown",
   "metadata": {},
   "source": [
    "Y sí, la tercera hipótesis se valida, en Florida hay más ataques que en Hawaii ( y Seychelles)"
   ]
  },
  {
   "cell_type": "markdown",
   "metadata": {},
   "source": [
    "Finalmente haré los gráficos, que son lo ultimo que hago aunque los haya colocado cada uno en su lugar, es una pena, pero por las hipótesis elegidas solo usaré countplot."
   ]
  },
  {
   "cell_type": "code",
   "execution_count": 386,
   "metadata": {},
   "outputs": [
    {
     "data": {
      "text/plain": [
       "<AxesSubplot:xlabel='Area', ylabel='count'>"
      ]
     },
     "execution_count": 386,
     "metadata": {},
     "output_type": "execute_result"
    },
    {
     "data": {
      "image/png": "[encoded data removed]",
      "text/plain": [
       "<Figure size 432x288 with 1 Axes>"
      ]
     },
     "metadata": {
      "needs_background": "light"
     },
     "output_type": "display_data"
    }
   ],
   "source": [
    "\n",
    "imagenzonas = sb.countplot ( x=data2h.Area)\n",
    "imagenzonas"
   ]
  },
  {
   "cell_type": "code",
   "execution_count": 387,
   "metadata": {},
   "outputs": [],
   "source": [
    "imagenzonas.figure.savefig (\"imagenzonas.jpg\", dpi=500)"
   ]
  },
  {
   "cell_type": "code",
   "execution_count": 19,
   "metadata": {},
   "outputs": [
    {
     "data": {
      "text/plain": [
       "<AxesSubplot:xlabel='Area', ylabel='count'>"
      ]
     },
     "execution_count": 19,
     "metadata": {},
     "output_type": "execute_result"
    },
    {
     "name": "stderr",
     "output_type": "stream",
     "text": [
      "C:\\Users\\asiok\\anaconda3\\lib\\site-packages\\matplotlib\\backends\\backend_agg.py:238: RuntimeWarning: Glyph 146 missing from current font.\n",
      "  font.set_text(s, 0.0, flags=flags)\n",
      "C:\\Users\\asiok\\anaconda3\\lib\\site-packages\\matplotlib\\backends\\backend_agg.py:201: RuntimeWarning: Glyph 146 missing from current font.\n",
      "  font.set_text(s, 0, flags=flags)\n"
     ]
    },
    {
     "data": {
      "image/png": "[encoded data removed]",
      "text/plain": [
       "<Figure size 432x288 with 1 Axes>"
      ]
     },
     "metadata": {
      "needs_background": "light"
     },
     "output_type": "display_data"
    }
   ],
   "source": [
    "imagenzonassucia = sb.countplot( x=data2.Area)\n",
    "imagenzonassucia"
   ]
  },
  {
   "cell_type": "code",
   "execution_count": 20,
   "metadata": {},
   "outputs": [],
   "source": [
    "imagenzonassucia.figure.savefig ( \"imagenzonassucia.jpg\", dpi=500)"
   ]
  }
 ],
 "metadata": {
  "kernelspec": {
   "display_name": "Python 3",
   "language": "python",
   "name": "python3"
  },
  "language_info": {
   "codemirror_mode": {
    "name": "ipython",
    "version": 3
   },
   "file_extension": ".py",
   "mimetype": "text/x-python",
   "name": "python",
   "nbconvert_exporter": "python",
   "pygments_lexer": "ipython3",
   "version": "3.8.5"
  },
  "toc": {
   "base_numbering": 1,
   "nav_menu": {},
   "number_sections": true,
   "sideBar": true,
   "skip_h1_title": true,
   "title_cell": "Table of Contents",
   "title_sidebar": "Contents",
   "toc_cell": false,
   "toc_position": {},
   "toc_section_display": true,
   "toc_window_display": false
  }
 },
 "nbformat": 4,
 "nbformat_minor": 4
}
